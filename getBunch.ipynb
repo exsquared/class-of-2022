{
 "cells": [
  {
   "cell_type": "code",
   "execution_count": 1,
   "metadata": {},
   "outputs": [],
   "source": [
    "from bs4 import BeautifulSoup\n",
    "import re\n",
    "import cssutils"
   ]
  },
  {
   "cell_type": "code",
   "execution_count": 2,
   "metadata": {},
   "outputs": [],
   "source": [
    "def webPageLoading(address):\n",
    "    with open(address, encoding=\"utf-8\") as file:\n",
    "        soup = BeautifulSoup(file, 'html.parser')\n",
    "        # return soup.prettify()\n",
    "    return soup"
   ]
  },
  {
   "cell_type": "code",
   "execution_count": 3,
   "metadata": {},
   "outputs": [],
   "source": [
    "test = webPageLoading('./pages/3308 Club Court _ New Homes in Naperville IL _ Eastman Properties.html')\n",
    "# test = webPageLoading('./pages/7138 Cassidy Court #Lot 219, Victor, NY 14564 (MLS # R1389188) _ Morrell Builders.html')\n",
    "# test = webPageLoading('./pages/McCabe Floor Plan _ Heartland Builders.html')\n",
    "# test = webPageLoading('./pages/Madison Floor Plan _ Heartland Builders.html')\n",
    "# print(test)"
   ]
  },
  {
   "cell_type": "code",
   "execution_count": 4,
   "metadata": {},
   "outputs": [
    {
     "name": "stdout",
     "output_type": "stream",
     "text": [
      "['/images/uploaded/thumb_679816511925309_mlsphotossept2017-9.jpg', '/images/uploaded/thumb_448498201556503_20245394_10154724592460924_3876837258491587342_n.jpg', '/images/uploaded/thumb_546693630516529_20246233_10154724592360924_505400544169707007_n.jpg', '/images/uploaded/thumb_854562571737915_mlsphotossept2017-8.jpg', '/images/uploaded/thumb_484841613564640_mlsphotossept2017-2.jpg', '/images/uploaded/thumb_190258998889476_mlsphotossept2017-4.jpg', '/images/uploaded/thumb_765781988389790_20293155_10154724593455924_2822148479938970799_n.jpg', '/common/images/inside_header_bg.jpg', '/images/uploaded/138666051905602_mlsphotossept2017-9.jpg', '/images/uploaded/thumb_763765311334282_mlsphotossept2017-7.jpg', '/images/uploaded/thumb_727017097640782_mlsphotossept2017-17.jpg', '/images/uploaded/thumb_183966478798538_mlsphotossept2017-13.jpg', '/images/uploaded/thumb_873546907212585_20245352_10154724593315924_765516102369503768_n.jpg']\n"
     ]
    }
   ],
   "source": [
    "img_tags = test.find_all('img')\n",
    "\n",
    "# print(len(img_tags))\n",
    "\n",
    "ignore_items = ['facebook', 'twitter', 'instagram', 'header', 'footer', 'logo', 'base64', 'faq', 'map', 'common', 'data:',\n",
    "    'icon', 'icons', 'api', 'theme', 'themes']\n",
    "\n",
    "img_tag_links = []\n",
    "\n",
    "# print(links)\n",
    "for img_tag in img_tags:\n",
    "    if (('jpg' in img_tag['src'] or 'png' in img_tag['src'] or 'jpeg' in img_tag['src']) and (not any(ignore_item in img_tag['src'] for ignore_item in ignore_items))):\n",
    "        img_tag_links.append(img_tag['src'])\n",
    "# print(len(img_tag_links))\n",
    "\n",
    "div_tags = test.find_all('div')\n",
    "# print(len(div_tags))\n",
    "\n",
    "div_tags_with_img_src = []\n",
    "for div_tag in div_tags:\n",
    "    if div_tag.has_attr('style') and 'background-image' in div_tag['style']:\n",
    "        style_content = div_tag['style']\n",
    "        style_string = cssutils.parseStyle(style_content)\n",
    "        url = style_string['background-image']\n",
    "        url = url.replace('url(', '').replace(')', '')\n",
    "        div_tags_with_img_src.append(url)\n",
    "        \n",
    "# print((div_tags_with_img_src[0]))\n",
    "\n",
    "all_img_containing_tags = img_tag_links + div_tags_with_img_src\n",
    "\n",
    "all_img_links_container = list(set(all_img_containing_tags))\n",
    "\n",
    "\n",
    "# print(len(all_img_containing_tags))\n",
    "# print(len(all_img_links_containere))\n",
    "\n",
    "print(all_img_links_container)"
   ]
  },
  {
   "cell_type": "code",
   "execution_count": 5,
   "metadata": {},
   "outputs": [
    {
     "name": "stdout",
     "output_type": "stream",
     "text": [
      "29\n",
      "210\n"
     ]
    }
   ],
   "source": [
    "relevant_words = [\"uploaded\", \"HouseImages\", \"slick-slide slick-current slick-active\", \"slick-slide slick-cloned\"]\n",
    "\n",
    "irrelevant_words = [\"facebook\", \"instagram\", \"twitter\", \"logo\"]\n",
    "\n",
    "img_tags = test.find_all('img')\n",
    "\n",
    "div_tags = test.find_all('div')\n",
    "\n",
    "print(len(img_tags))\n",
    "print(len(div_tags))"
   ]
  },
  {
   "cell_type": "code",
   "execution_count": 6,
   "metadata": {},
   "outputs": [
    {
     "name": "stdout",
     "output_type": "stream",
     "text": [
      "16\n",
      "0\n"
     ]
    }
   ],
   "source": [
    "pre_img_list = []\n",
    "pre_div_list = []\n",
    "for img_tag in img_tags: \n",
    "    for relevant_word in relevant_words:\n",
    "        if relevant_word in str(img_tag):\n",
    "            pre_img_list.append(img_tag)\n",
    "print(len(pre_img_list))\n",
    "\n",
    "for div_tag in div_tags:\n",
    "    for relevant_word in relevant_words:\n",
    "        if div_tag.get('style') :\n",
    "            if (relevant_word in str(div_tag['style']) or relevant_word in str(div_tag)) and (\"background-image\" in str(div_tag['style'])):\n",
    "                pre_div_list.append(div_tag)\n",
    "print(len(pre_div_list))\n",
    "\n"
   ]
  },
  {
   "cell_type": "code",
   "execution_count": 7,
   "metadata": {},
   "outputs": [
    {
     "name": "stdout",
     "output_type": "stream",
     "text": [
      "12\n",
      "/images/uploaded/138666051905602_mlsphotossept2017-9.jpg\n",
      "/images/uploaded/thumb_765781988389790_20293155_10154724593455924_2822148479938970799_n.jpg\n",
      "/images/uploaded/thumb_679816511925309_mlsphotossept2017-9.jpg\n",
      "/images/uploaded/thumb_763765311334282_mlsphotossept2017-7.jpg\n",
      "/images/uploaded/thumb_484841613564640_mlsphotossept2017-2.jpg\n",
      "/images/uploaded/thumb_190258998889476_mlsphotossept2017-4.jpg\n",
      "/images/uploaded/thumb_183966478798538_mlsphotossept2017-13.jpg\n",
      "/images/uploaded/thumb_727017097640782_mlsphotossept2017-17.jpg\n",
      "/images/uploaded/thumb_854562571737915_mlsphotossept2017-8.jpg\n",
      "/images/uploaded/thumb_448498201556503_20245394_10154724592460924_3876837258491587342_n.jpg\n",
      "/images/uploaded/thumb_546693630516529_20246233_10154724592360924_505400544169707007_n.jpg\n",
      "/images/uploaded/thumb_873546907212585_20245352_10154724593315924_765516102369503768_n.jpg\n",
      "0\n"
     ]
    }
   ],
   "source": [
    "final_img_list =[]\n",
    "\n",
    "final_div_list = []\n",
    "\n",
    "for img_tag in pre_img_list:\n",
    "    for irrelevant_word in irrelevant_words:\n",
    "        flag = 0\n",
    "        if irrelevant_word in str(img_tag):\n",
    "            flag = 1\n",
    "            break\n",
    "    if flag == 0:\n",
    "        final_img_list.append(img_tag)\n",
    "\n",
    "for div_tag in pre_div_list:\n",
    "    for irrelevant_word in irrelevant_words:\n",
    "        flag = 0\n",
    "        if irrelevant_word in str(div_tag):\n",
    "            flag = 1\n",
    "            break\n",
    "    if flag == 0:\n",
    "        final_div_list.append(div_tag)\n",
    "\n",
    "        \n",
    "\n",
    "print(len(final_img_list))\n",
    "for img_tag in final_img_list:\n",
    "    print(img_tag['src'])\n",
    "\n",
    "\n",
    "print(len(final_div_list))\n",
    "for div_tag in final_div_list:\n",
    "    print(div_tag['style'])"
   ]
  },
  {
   "cell_type": "code",
   "execution_count": null,
   "metadata": {},
   "outputs": [],
   "source": [
    "\n",
    "\n"
   ]
  },
  {
   "cell_type": "code",
   "execution_count": null,
   "metadata": {},
   "outputs": [],
   "source": []
  }
 ],
 "metadata": {
  "interpreter": {
   "hash": "37477840f45969b7b5f4d7fcc59e760df52d89883dabd7520f7eecb3c71b6c20"
  },
  "kernelspec": {
   "display_name": "Python 3.10.2 64-bit",
   "language": "python",
   "name": "python3"
  },
  "language_info": {
   "codemirror_mode": {
    "name": "ipython",
    "version": 3
   },
   "file_extension": ".py",
   "mimetype": "text/x-python",
   "name": "python",
   "nbconvert_exporter": "python",
   "pygments_lexer": "ipython3",
   "version": "3.10.2"
  },
  "orig_nbformat": 4
 },
 "nbformat": 4,
 "nbformat_minor": 2
}
