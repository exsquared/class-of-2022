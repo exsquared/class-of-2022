{
 "cells": [
  {
   "cell_type": "code",
   "execution_count": 1,
   "id": "1549c641",
   "metadata": {},
   "outputs": [],
   "source": [
    "from bs4 import BeautifulSoup\n",
    "import requests\n"
   ]
  },
  {
   "cell_type": "code",
   "execution_count": 2,
   "id": "ae351793",
   "metadata": {},
   "outputs": [],
   "source": [
    "url = 'https://skagitdesignhomes.com/plans/francis-adu/'"
   ]
  },
  {
   "cell_type": "code",
   "execution_count": 6,
   "id": "ef9e76b3",
   "metadata": {},
   "outputs": [
    {
     "name": "stdout",
     "output_type": "stream",
     "text": [
      "['', '', '', '', '', 'HomePlansPlans2018 Energy CodeFeaturesStandard FeaturesQuality Guarantee2018 Energy CodeAbout UsAbout UsWhy Skagit Design?Why a stick built homeFAQGalleryGalleryContact UsContact UsFinancingSatisfied Customers', 'HomePlansPlans2018 Energy CodeFeaturesStandard FeaturesQuality Guarantee2018 Energy CodeAbout UsAbout UsWhy Skagit Design?Why a stick built homeFAQGalleryGalleryContact UsContact UsFinancingSatisfied Customers', '', 'Francis ADU 896OtherBedrooms:2Bathrooms:1Area:896Price:$156,900Story:1 storyGarage:OptionalDescriptionOur ADU is a small and efficient two bedroom designed for a small lot or as an extra home on your property. We have built it with an optional garage on the side and back.  Ask us about other ADU designs we have.House plans', 'Francis ADU 896OtherBedrooms:2Bathrooms:1Area:896Price:$156,900Story:1 storyGarage:OptionalDescriptionOur ADU is a small and efficient two bedroom designed for a small lot or as an extra home on your property. We have built it with an optional garage on the side and back.  Ask us about other ADU designs we have.House plans', 'Francis ADU 896OtherBedrooms:2Bathrooms:1Area:896Price:$156,900Story:1 storyGarage:OptionalDescriptionOur ADU is a small and efficient two bedroom designed for a small lot or as an extra home on your property. We have built it with an optional garage on the side and back.  Ask us about other ADU designs we have.House plans', 'Francis ADU 896OtherBedrooms:2Bathrooms:1Area:896Price:$156,900Story:1 storyGarage:OptionalDescriptionOur ADU is a small and efficient two bedroom designed for a small lot or as an extra home on your property. We have built it with an optional garage on the side and back.  Ask us about other ADU designs we have.House plans', 'Francis ADU 896OtherBedrooms:2Bathrooms:1Area:896Price:$156,900Story:1 storyGarage:OptionalDescriptionOur ADU is a small and efficient two bedroom designed for a small lot or as an extra home on your property. We have built it with an optional garage on the side and back.  Ask us about other ADU designs we have.', 'Francis ADU 896OtherBedrooms:2Bathrooms:1Area:896Price:$156,900Story:1 storyGarage:Optional', 'Francis ADU 896', 'OtherBedrooms:2Bathrooms:1Area:896Price:$156,900Story:1 storyGarage:Optional', 'DescriptionOur ADU is a small and efficient two bedroom designed for a small lot or as an extra home on your property. We have built it with an optional garage on the side and back.  Ask us about other ADU designs we have.', 'House plans', '', '', '', '', 'House plans', '', '', '', '', 'PlansFeaturesAbout UsGalleryContact Us© 2022 -2023 \\xa0Skagit Design HomesContactΔDesigned and Developed bySweans', '', '', 'PlansFeaturesAbout UsGalleryContact Us© 2022 -2023 \\xa0Skagit Design Homes', '© 2022 -2023 \\xa0Skagit Design Homes', 'ContactΔ', 'ContactΔ', 'Δ', '', '', '', '', '', 'Designed and Developed bySweans', '', \"The Washington State 2018 Energy Code Changes were adopted February 1, 2021!Please visit the page atPlans/2018 Energy Codeto see what changes we've made for this code change.toggleToogle Down\", \"The Washington State 2018 Energy Code Changes were adopted February 1, 2021!Please visit the page atPlans/2018 Energy Codeto see what changes we've made for this code change.toggle\", \"The Washington State 2018 Energy Code Changes were adopted February 1, 2021!Please visit the page atPlans/2018 Energy Codeto see what changes we've made for this code change.\"]\n"
     ]
    }
   ],
   "source": [
    "r = requests.get(url)\n",
    "soup = BeautifulSoup(r.text,\"html.parser\")\n",
    "#all_divs = soup.find_all('span',{'class' : 'menu-item menu-item-type-custom menu-item-object-custom menu-item-home menu-item-4'})\n",
    "#print(all_divs)\n",
    "category = []\n",
    "\n",
    "for item in soup.findAll('div'):\n",
    "    category.append(item.get_text(strip=True))\n",
    "print(category)    "
   ]
  },
  {
   "cell_type": "code",
   "execution_count": null,
   "id": "2d29bb55",
   "metadata": {},
   "outputs": [],
   "source": []
  },
  {
   "cell_type": "code",
   "execution_count": null,
   "id": "4f19a6b1",
   "metadata": {},
   "outputs": [],
   "source": []
  }
 ],
 "metadata": {
  "kernelspec": {
   "display_name": "Python 3 (ipykernel)",
   "language": "python",
   "name": "python3"
  },
  "language_info": {
   "codemirror_mode": {
    "name": "ipython",
    "version": 3
   },
   "file_extension": ".py",
   "mimetype": "text/x-python",
   "name": "python",
   "nbconvert_exporter": "python",
   "pygments_lexer": "ipython3",
   "version": "3.9.7"
  }
 },
 "nbformat": 4,
 "nbformat_minor": 5
}
