{
 "cells": [
  {
   "cell_type": "code",
   "execution_count": 1,
   "metadata": {},
   "outputs": [],
   "source": [
    "from bs4 import BeautifulSoup\n",
    "import cssutils"
   ]
  },
  {
   "cell_type": "code",
   "execution_count": 2,
   "metadata": {},
   "outputs": [],
   "source": [
    "def find_image_links(file):\n",
    "    with open(file, encoding='utf-8') as f:\n",
    "        soup = BeautifulSoup(f, 'html.parser')\n",
    "    \n",
    "    div_tags = soup.find_all('div')\n",
    "\n",
    "    ignore_items = ['facebook', 'twitter', 'instagram', 'header', 'footer', 'logo', 'base64', 'faq', 'map', 'common', 'data:',\n",
    "    'icon', 'icons', 'api', 'theme', 'themes', 'mail', 'contact', 'phone', 'floor', 'headshot']\n",
    "\n",
    "    tags_without_div = []\n",
    "    div_tag_style = []\n",
    "    style_urls = []\n",
    "\n",
    "    for div_tag in div_tags:\n",
    "        div_contents = div_tag.contents\n",
    "        div_inner_content = \"\"\n",
    "\n",
    "        if 'style' in div_tag.attrs:\n",
    "            if 'background-image' in div_tag['style']:\n",
    "                div_tag_style.append(div_tag)\n",
    "                continue\n",
    "        \n",
    "        for content in div_contents:\n",
    "            if str(content)[:4] == '<div':\n",
    "                continue\n",
    "            div_inner_content += str(content)\n",
    "        tags_without_div.append(BeautifulSoup(div_inner_content, 'html.parser'))\n",
    "\n",
    "    imp_div = dict()\n",
    "    \n",
    "    for div_tag in tags_without_div:\n",
    "        if any(ignore_item in \"\".join(str(div_tag.contents)).lower() for ignore_item in ignore_items):\n",
    "            continue\n",
    "        \n",
    "        img_tag_length = len(div_tag.find_all('img'))\n",
    "        \n",
    "        imp_div[div_tag] = img_tag_length\n",
    "\n",
    "    for div_tag in div_tag_style:\n",
    "        if any(ignore_item in str(div_tag).lower() for ignore_item in ignore_items):\n",
    "            continue\n",
    "\n",
    "        style = cssutils.parseStyle(div_tag['style'])\n",
    "        url = style['background-image']\n",
    "        \n",
    "        style_urls.append(url[4:-1])\n",
    "\n",
    "    return dict(sorted(imp_div.items(), key=lambda item: item[1], reverse=True)), style_urls"
   ]
  },
  {
   "cell_type": "code",
   "execution_count": 3,
   "metadata": {},
   "outputs": [],
   "source": [
    "def print_links(image_links):\n",
    "    unique_links = []\n",
    "    for key, value in enumerate(image_links[0].items()):\n",
    "        images = value[0].find_all('img')\n",
    "\n",
    "        for image in images:\n",
    "            # print(image['src'])\n",
    "            unique_links.append(image['src'])\n",
    "        #break\n",
    "\n",
    "    for style_url in image_links[1]:\n",
    "        unique_links.append(style_url)\n",
    "\n",
    "    unique_links = list(set(unique_links))\n",
    "\n",
    "    for unique_link in unique_links:\n",
    "        print(unique_link)\n",
    "\n",
    "    print(len(unique_links))"
   ]
  },
  {
   "cell_type": "code",
   "execution_count": 37,
   "metadata": {},
   "outputs": [
    {
     "name": "stdout",
     "output_type": "stream",
     "text": [
      "https://qualitydesignhomes.com/wp-content/uploads/2021/04/1551291005-dce5b97dc927e8b918eb6b86cec6228b.jpg\n",
      "https://qualitydesignhomes.com/wp-content/uploads/2021/04/1560202429-ad054c3111b687fd7f36e991d78e645c.jpg\n",
      "https://qualitydesignhomes.com/wp-content/uploads/2021/04/1548807500-9051e5ed8c335300eb2f508dd118dd2e.jpg\n",
      "https://qualitydesignhomes.com/wp-content/uploads/2021/04/1548807499-4ace9f2e3bc8762d25b97af30a18bccf.jpg\n",
      "https://qualitydesignhomes.com/wp-content/uploads/2021/04/1552079702-b00f7360fcb1f97b5a01a4a9405e21fe.jpg\n",
      "https://qualitydesignhomes.com/wp-content/uploads/2021/04/1548807496-3f5efcde4d86467e6df9c8c47211101e.jpg\n",
      "https://qualitydesignhomes.com/wp-content/uploads/2021/04/1548807499-031ee5d7a51523c6944c20696929362c.jpg\n",
      "https://qualitydesignhomes.com/wp-content/uploads/2021/04/1548807498-6fab8a7f01ea57b1ef1a778e583422cc.jpg\n",
      "8\n"
     ]
    }
   ],
   "source": [
    "image_links = print_links(find_image_links(r'html-files/1130 - Quality Design Homes.html'))"
   ]
  },
  {
   "cell_type": "code",
   "execution_count": 38,
   "metadata": {},
   "outputs": [
    {
     "name": "stdout",
     "output_type": "stream",
     "text": [
      "https://gateway-const.com/wp-content/uploads/2020/07/IMG_3413-scaled-394x262.jpg\n",
      "https://gateway-const.com/wp-content/uploads/2020/07/3946-Masterbath-2-390x260.jpg\n",
      "https://gateway-const.com/wp-content/uploads/2020/07/3966-Masterbath-395x263.jpg\n",
      "https://gateway-const.com/wp-content/uploads/2020/07/3966-Kitch-Dine-793x529.jpg\n",
      "https://gateway-const.com/wp-content/uploads/2020/07/3966-Master-Sinks-404x263.jpg\n",
      "https://gateway-const.com/wp-content/uploads/2020/07/IMG_3423-scaled-394x263.jpg\n",
      "https://gateway-const.com/wp-content/uploads/2020/07/3966-Mud-Rm-384x263.jpg\n",
      "https://gateway-const.com/wp-content/uploads/2020/07/3966-Laundry-394x262.jpg\n",
      "https://gateway-const.com/wp-content/uploads/2020/07/3946-Masterbed-390x260.jpg\n",
      "https://gateway-const.com/wp-content/uploads/2021/11/2121-TBD-Tract-251-FEM-1500x659.jpg\n",
      "https://gateway-const.com/wp-content/uploads/2021/11/2121-TBD-Tract-251-FEM-200x300.jpg\n",
      "https://gateway-const.com/wp-content/uploads/2020/07/3946-Master-Shower-2-797x524.jpg\n",
      "https://gateway-const.com/wp-content/uploads/2021/11/2121-TBD-Tract-251-3D-Marketing-200x300.jpg\n",
      "https://gateway-const.com/wp-content/uploads/2021/11/2121-TBD-Tract-251-FPM-200x300.jpg\n",
      "https://gateway-const.com/wp-content/uploads/2020/07/3966-Farthing-3-793x529.jpg\n",
      "https://gateway-const.com/wp-content/uploads/2020/07/3946-Kitch_Liv-390x273.jpg\n",
      "https://gateway-const.com/wp-content/uploads/2020/07/3966-Living-2-394x263.jpg\n",
      "https://gateway-const.com/wp-content/uploads/2021/11/2121-TBD-Tract-251-FPM-1391x1500.jpg\n",
      "https://gateway-const.com/wp-content/uploads/2020/07/3966-Fam-Sitting-410x273.jpg\n",
      "https://gateway-const.com/wp-content/uploads/2021/11/2121-TBD-Tract-251-3D-Marketing-1500x431.jpg\n",
      "https://gateway-const.com/wp-content/uploads/2020/07/3966-Bath-1-383x273.jpg\n",
      "21\n"
     ]
    }
   ],
   "source": [
    "image_links = print_links(find_image_links(r'html-files/1272 Bentley Rd. [Contract Pending] - Gateway Construction.html'))"
   ]
  },
  {
   "cell_type": "code",
   "execution_count": 39,
   "metadata": {},
   "outputs": [
    {
     "name": "stdout",
     "output_type": "stream",
     "text": [
      "https://images.marketleader.com/HouseImages/CENTRALNY/827/R1389827_07.jpg?PhotoAccessKey=dd7012f37dc79c5cf7da00cb6877dc45\n",
      "https://images.marketleader.com/HouseImages/CENTRALNY/827/R1389827_08.jpg?PhotoAccessKey=dd7012f37dc79c5cf7da00cb6877dc45\n",
      "https://images.marketleader.com/HouseImages/CENTRALNY/827/R1389827_05.jpg?PhotoAccessKey=dd7012f37dc79c5cf7da00cb6877dc45\n",
      "https://images.marketleader.com/HouseImages/CENTRALNY/827/f_R1389827_07.jpg?PhotoAccessKey=dd7012f37dc79c5cf7da00cb6877dc45\n",
      "https://images.marketleader.com/HouseImages/CENTRALNY/827/R1389827.jpg?PhotoAccessKey=dd7012f37dc79c5cf7da00cb6877dc45\n",
      "https://images.marketleader.com/HouseImages/CENTRALNY/827/R1389827_17.jpg?PhotoAccessKey=dd7012f37dc79c5cf7da00cb6877dc45\n",
      "https://images.marketleader.com/HouseImages/CENTRALNY/827/R1389827_11.jpg?PhotoAccessKey=dd7012f37dc79c5cf7da00cb6877dc45\n",
      "https://images.marketleader.com/HouseImages/CENTRALNY/827/R1389827_20.jpg?PhotoAccessKey=dd7012f37dc79c5cf7da00cb6877dc45\n",
      "https://images.marketleader.com/HouseImages/CENTRALNY/827/f_R1389827_08.jpg?PhotoAccessKey=dd7012f37dc79c5cf7da00cb6877dc45\n",
      "https://images.marketleader.com/HouseImages/CENTRALNY/827/R1389827_06.jpg?PhotoAccessKey=dd7012f37dc79c5cf7da00cb6877dc45\n",
      "https://images.marketleader.com/HouseImages/CENTRALNY/827/R1389827_13.jpg?PhotoAccessKey=dd7012f37dc79c5cf7da00cb6877dc45\n",
      "https://images.marketleader.com/HouseImages/CENTRALNY/827/R1389827_10.jpg?PhotoAccessKey=dd7012f37dc79c5cf7da00cb6877dc45\n",
      "https://images.marketleader.com/HouseImages/CENTRALNY/827/R1389827_14.jpg?PhotoAccessKey=dd7012f37dc79c5cf7da00cb6877dc45\n",
      "https://images.marketleader.com/HouseImages/CENTRALNY/827/R1389827_19.jpg?PhotoAccessKey=dd7012f37dc79c5cf7da00cb6877dc45\n",
      "https://images.marketleader.com/HouseImages/CENTRALNY/827/R1389827_01.jpg?PhotoAccessKey=dd7012f37dc79c5cf7da00cb6877dc45\n",
      "https://images.marketleader.com/HouseImages/CENTRALNY/827/R1389827_04.jpg?PhotoAccessKey=dd7012f37dc79c5cf7da00cb6877dc45\n",
      "https://images.marketleader.com/HouseImages/CENTRALNY/827/R1389827_02.jpg?PhotoAccessKey=dd7012f37dc79c5cf7da00cb6877dc45\n",
      "https://images.marketleader.com/HouseImages/CENTRALNY/827/R1389827_03.jpg?PhotoAccessKey=dd7012f37dc79c5cf7da00cb6877dc45\n",
      "https://images.marketleader.com/HouseImages/CENTRALNY/827/R1389827_18.jpg?PhotoAccessKey=dd7012f37dc79c5cf7da00cb6877dc45\n",
      "https://images.marketleader.com/HouseImages/CENTRALNY/827/f_R1389827_09.jpg?PhotoAccessKey=dd7012f37dc79c5cf7da00cb6877dc45\n",
      "https://images.marketleader.com/HouseImages/CENTRALNY/827/R1389827_15.jpg?PhotoAccessKey=dd7012f37dc79c5cf7da00cb6877dc45\n",
      "https://images.marketleader.com/HouseImages/CENTRALNY/827/R1389827_09.jpg?PhotoAccessKey=dd7012f37dc79c5cf7da00cb6877dc45\n",
      "https://images.marketleader.com/HouseImages/CENTRALNY/827/R1389827_12.jpg?PhotoAccessKey=dd7012f37dc79c5cf7da00cb6877dc45\n",
      "https://images.marketleader.com/HouseImages/CENTRALNY/827/R1389827_16.jpg?PhotoAccessKey=dd7012f37dc79c5cf7da00cb6877dc45\n",
      "24\n"
     ]
    }
   ],
   "source": [
    "image_links = print_links(find_image_links(r'html-files/1382 Ashwood Lane, Victor, NY 14564 (MLS # R1389827) _ Morrell Builders.html'))"
   ]
  },
  {
   "cell_type": "code",
   "execution_count": 40,
   "metadata": {},
   "outputs": [
    {
     "name": "stdout",
     "output_type": "stream",
     "text": [
      "https://static.wixstatic.com/media/8019b6_0d88b4e0141e444f9a51106e67af0fe2~mv2.png/v1/fill/w_568,h_412,q_90/8019b6_0d88b4e0141e444f9a51106e67af0fe2~mv2.png\n",
      "\"https://static.wixstatic.com/media/8019b6_ac5a3dcd32ad43d799e5e98191aa7101~mv2.png/v1/fill/w_120,h_120,q_70/8019b6_ac5a3dcd32ad43d799e5e98191aa7101~mv2.png\"\n",
      "https://static.wixstatic.com/media/8019b6_ac5a3dcd32ad43d799e5e98191aa7101~mv2.png/v1/fill/w_568,h_412,q_90/8019b6_ac5a3dcd32ad43d799e5e98191aa7101~mv2.png\n",
      "https://static.wixstatic.com/media/8019b6_0e9f9d0b64934ae186398ddff1e2a744~mv2.png/v1/fill/w_568,h_412,q_90/8019b6_0e9f9d0b64934ae186398ddff1e2a744~mv2.png\n",
      "https://static.wixstatic.com/media/8019b6_7c81ad5600b547d88f52a3f8cf70555c~mv2.png/v1/fill/w_568,h_412,q_90/8019b6_7c81ad5600b547d88f52a3f8cf70555c~mv2.png\n",
      "https://static.wixstatic.com/media/8019b6_6e523921f27443ffa6614c1c2226204f~mv2.png/v1/fill/w_1280,h_653,al_c,q_90/1503%20Mulligan.webp\n",
      "https://static.wixstatic.com/media/56d750_35c2951f180c438ebd563ac4f1687868~mv2.png/v1/fill/w_108,h_92,al_c,q_85,usm_0.66_1.00_0.01/Hines%20Fence-01.webp\n",
      "\"https://static.wixstatic.com/media/8019b6_015ca3118b34455a852210aef2a6d075~mv2.png/v1/fill/w_120,h_120,q_70/8019b6_015ca3118b34455a852210aef2a6d075~mv2.png\"\n",
      "https://static.wixstatic.com/media/8019b6_1967f25935c444ac954da13be3b5361a~mv2.png/v1/fill/w_568,h_412,q_90/8019b6_1967f25935c444ac954da13be3b5361a~mv2.png\n",
      "https://static.wixstatic.com/media/8019b6_343edc5d9c5d41f69e00fe720642e7af~mv2.png/v1/fill/w_568,h_412,q_90/8019b6_343edc5d9c5d41f69e00fe720642e7af~mv2.png\n",
      "\"https://static.wixstatic.com/media/8019b6_0241eb213fd2473fb8f2bdc8b1178abf~mv2.png/v1/fill/w_120,h_120,q_70/8019b6_0241eb213fd2473fb8f2bdc8b1178abf~mv2.png\"\n",
      "https://static.wixstatic.com/media/8019b6_acf425b5f0794cdcbdd3d0a9e7a34b01~mv2.png/v1/fill/w_568,h_412,q_90/8019b6_acf425b5f0794cdcbdd3d0a9e7a34b01~mv2.png\n",
      "https://static.wixstatic.com/media/8019b6_33fbd2db265f4a74ba8f4847b8667f82~mv2.png/v1/fill/w_568,h_412,q_90/8019b6_33fbd2db265f4a74ba8f4847b8667f82~mv2.png\n",
      "https://static.wixstatic.com/media/8019b6_4e5ceb929fd54d45bf6b0b0026e58be1~mv2.png/v1/fill/w_568,h_412,q_90/8019b6_4e5ceb929fd54d45bf6b0b0026e58be1~mv2.png\n",
      "https://static.wixstatic.com/media/8019b6_228befa1200a4189ae9b8f3435890b96~mv2.png/v1/fill/w_568,h_412,q_90/8019b6_228befa1200a4189ae9b8f3435890b96~mv2.png\n",
      "https://static.wixstatic.com/media/8019b6_015ca3118b34455a852210aef2a6d075~mv2.png/v1/fill/w_568,h_412,q_90/8019b6_015ca3118b34455a852210aef2a6d075~mv2.png\n",
      "https://static.wixstatic.com/media/8019b6_b2ea5ea0d1894f149b8687866a12a9d9~mv2.png/v1/fill/w_568,h_412,q_90/8019b6_b2ea5ea0d1894f149b8687866a12a9d9~mv2.png\n",
      "https://static.wixstatic.com/media/8019b6_996b89bb797f4d38b5b7d6057dbf0d9d~mv2.png/v1/fill/w_568,h_412,q_90/8019b6_996b89bb797f4d38b5b7d6057dbf0d9d~mv2.png\n",
      "https://static.wixstatic.com/media/8019b6_c6f033fe9be44620b641b1be0e84e1ce~mv2.png/v1/fill/w_568,h_412,q_90/8019b6_c6f033fe9be44620b641b1be0e84e1ce~mv2.png\n",
      "\"https://static.wixstatic.com/media/8019b6_857715a64fc4417c8a22459fce82a0cc~mv2.png/v1/fill/w_120,h_120,q_70/8019b6_857715a64fc4417c8a22459fce82a0cc~mv2.png\"\n",
      "\"https://static.wixstatic.com/media/8019b6_0d88b4e0141e444f9a51106e67af0fe2~mv2.png/v1/fill/w_120,h_120,q_70/8019b6_0d88b4e0141e444f9a51106e67af0fe2~mv2.png\"\n",
      "https://static.wixstatic.com/media/8019b6_b0521296186846bfb1ff831195dcc178~mv2.png/v1/fill/w_568,h_412,q_90/8019b6_b0521296186846bfb1ff831195dcc178~mv2.png\n",
      "https://static.wixstatic.com/media/8019b6_35a7cd1da3834cf2b4aa100466a0647e~mv2.png/v1/fill/w_568,h_412,q_90/8019b6_35a7cd1da3834cf2b4aa100466a0647e~mv2.png\n",
      "\"https://static.wixstatic.com/media/8019b6_cded128c119f43ccb13c5c499dea094b~mv2.jpg/v1/fill/w_120,h_120,q_70/8019b6_cded128c119f43ccb13c5c499dea094b~mv2.jpg\"\n",
      "https://static.wixstatic.com/media/8019b6_fd9dd40eab4445fe8a7ed26f919d2e47~mv2.png/v1/fill/w_568,h_412,q_90/8019b6_fd9dd40eab4445fe8a7ed26f919d2e47~mv2.png\n",
      "https://static.wixstatic.com/media/8019b6_246663b0862a44b695cc1ebef7d25295~mv2.png/v1/fill/w_568,h_412,q_90/8019b6_246663b0862a44b695cc1ebef7d25295~mv2.png\n",
      "\"https://static.wixstatic.com/media/8019b6_6c51d750cc6f46a19517eb720bdebf78~mv2.jpg/v1/fill/w_120,h_120,q_70/8019b6_6c51d750cc6f46a19517eb720bdebf78~mv2.jpg\"\n",
      "https://static.wixstatic.com/media/8019b6_25e3ff0bb8da467e8425cfc7d038799c~mv2.png/v1/fill/w_568,h_412,q_90/8019b6_25e3ff0bb8da467e8425cfc7d038799c~mv2.png\n",
      "https://static.wixstatic.com/media/8019b6_0241eb213fd2473fb8f2bdc8b1178abf~mv2.png/v1/fill/w_568,h_412,q_90/8019b6_0241eb213fd2473fb8f2bdc8b1178abf~mv2.png\n",
      "https://static.wixstatic.com/media/8019b6_f9e4cd89df904aad9e74acb80d70f408~mv2.png/v1/fill/w_568,h_412,q_90/8019b6_f9e4cd89df904aad9e74acb80d70f408~mv2.png\n",
      "https://static.wixstatic.com/media/8019b6_d4803fe461484e31aae8ee44cab6bdf7~mv2.png/v1/fill/w_568,h_412,q_90/8019b6_d4803fe461484e31aae8ee44cab6bdf7~mv2.png\n",
      "https://static.wixstatic.com/media/8019b6_857715a64fc4417c8a22459fce82a0cc~mv2.png/v1/fill/w_568,h_412,q_90/8019b6_857715a64fc4417c8a22459fce82a0cc~mv2.png\n",
      "32\n"
     ]
    }
   ],
   "source": [
    "image_links = print_links(find_image_links(r'html-files/1704 N. Harrison Street.html'))"
   ]
  },
  {
   "cell_type": "code",
   "execution_count": 41,
   "metadata": {},
   "outputs": [
    {
     "name": "stdout",
     "output_type": "stream",
     "text": [
      "/images/uploaded/thumb_763765311334282_mlsphotossept2017-7.jpg\n",
      "/images/uploaded/thumb_873546907212585_20245352_10154724593315924_765516102369503768_n.jpg\n",
      "/images/uploaded/thumb_546693630516529_20246233_10154724592360924_505400544169707007_n.jpg\n",
      "/images/uploaded/thumb_679816511925309_mlsphotossept2017-9.jpg\n",
      "/images/uploaded/thumb_484841613564640_mlsphotossept2017-2.jpg\n",
      "/images/uploaded/thumb_448498201556503_20245394_10154724592460924_3876837258491587342_n.jpg\n",
      "/images/uploaded/thumb_854562571737915_mlsphotossept2017-8.jpg\n",
      "/images/uploaded/thumb_727017097640782_mlsphotossept2017-17.jpg\n",
      "/images/uploaded/138666051905602_mlsphotossept2017-9.jpg\n",
      "/images/uploaded/thumb_190258998889476_mlsphotossept2017-4.jpg\n",
      "/images/uploaded/thumb_765781988389790_20293155_10154724593455924_2822148479938970799_n.jpg\n",
      "/images/uploaded/thumb_183966478798538_mlsphotossept2017-13.jpg\n",
      "12\n"
     ]
    }
   ],
   "source": [
    "image_links = print_links(find_image_links(r'html-files/3308 Club Court _ New Homes in Naperville IL _ Eastman Properties.html'))"
   ]
  },
  {
   "cell_type": "code",
   "execution_count": 42,
   "metadata": {},
   "outputs": [
    {
     "name": "stdout",
     "output_type": "stream",
     "text": [
      "https://images.marketleader.com/HouseImages/CENTRALNY/188/R1389188_05.jpg?PhotoAccessKey=dd7012f37dc79c5cf7da00cb6877dc45\n",
      "https://images.marketleader.com/HouseImages/CENTRALNY/188/R1389188_02.jpg?PhotoAccessKey=dd7012f37dc79c5cf7da00cb6877dc45\n",
      "https://images.marketleader.com/HouseImages/CENTRALNY/188/R1389188_01.jpg?PhotoAccessKey=dd7012f37dc79c5cf7da00cb6877dc45\n",
      "https://images.marketleader.com/HouseImages/CENTRALNY/188/R1389188_07.jpg?PhotoAccessKey=dd7012f37dc79c5cf7da00cb6877dc45\n",
      "https://images.marketleader.com/HouseImages/CENTRALNY/188/R1389188_10.jpg?PhotoAccessKey=dd7012f37dc79c5cf7da00cb6877dc45\n",
      "https://images.marketleader.com/HouseImages/CENTRALNY/188/R1389188_11.jpg?PhotoAccessKey=dd7012f37dc79c5cf7da00cb6877dc45\n",
      "https://images.marketleader.com/HouseImages/CENTRALNY/188/R1389188_13.jpg?PhotoAccessKey=dd7012f37dc79c5cf7da00cb6877dc45\n",
      "https://images.marketleader.com/HouseImages/CENTRALNY/188/R1389188_03.jpg?PhotoAccessKey=dd7012f37dc79c5cf7da00cb6877dc45\n",
      "https://images.marketleader.com/HouseImages/CENTRALNY/188/f_R1389188_09.jpg?PhotoAccessKey=dd7012f37dc79c5cf7da00cb6877dc45\n",
      "https://images.marketleader.com/HouseImages/CENTRALNY/188/R1389188_08.jpg?PhotoAccessKey=dd7012f37dc79c5cf7da00cb6877dc45\n",
      "https://images.marketleader.com/HouseImages/CENTRALNY/188/R1389188_14.jpg?PhotoAccessKey=dd7012f37dc79c5cf7da00cb6877dc45\n",
      "https://images.marketleader.com/HouseImages/CENTRALNY/188/R1389188_04.jpg?PhotoAccessKey=dd7012f37dc79c5cf7da00cb6877dc45\n",
      "https://images.marketleader.com/HouseImages/CENTRALNY/188/R1389188.jpg?PhotoAccessKey=dd7012f37dc79c5cf7da00cb6877dc45\n",
      "https://images.marketleader.com/HouseImages/CENTRALNY/188/R1389188_12.jpg?PhotoAccessKey=dd7012f37dc79c5cf7da00cb6877dc45\n",
      "https://images.marketleader.com/HouseImages/CENTRALNY/188/R1389188_09.jpg?PhotoAccessKey=dd7012f37dc79c5cf7da00cb6877dc45\n",
      "https://images.marketleader.com/HouseImages/CENTRALNY/188/f_R1389188_07.jpg?PhotoAccessKey=dd7012f37dc79c5cf7da00cb6877dc45\n",
      "https://images.marketleader.com/HouseImages/CENTRALNY/188/f_R1389188_08.jpg?PhotoAccessKey=dd7012f37dc79c5cf7da00cb6877dc45\n",
      "https://images.marketleader.com/HouseImages/CENTRALNY/188/R1389188_06.jpg?PhotoAccessKey=dd7012f37dc79c5cf7da00cb6877dc45\n",
      "18\n"
     ]
    }
   ],
   "source": [
    "image_links = print_links(find_image_links(r'html-files/7138 Cassidy Court #Lot 219, Victor, NY 14564 (MLS # R1389188) _ Morrell Builders.html'))"
   ]
  },
  {
   "cell_type": "code",
   "execution_count": 43,
   "metadata": {},
   "outputs": [
    {
     "name": "stdout",
     "output_type": "stream",
     "text": [
      "https://schmidt-homes.com/wp-content/uploads/atlantic-rendering.png\n",
      "https://schmidt-homes.com/wp-content/uploads/atlantic-layout.png\n",
      "2\n"
     ]
    }
   ],
   "source": [
    "image_links = print_links(find_image_links(r'html-files/Atlantic - Schmidt Homes, LLC.html'))"
   ]
  },
  {
   "cell_type": "code",
   "execution_count": 44,
   "metadata": {},
   "outputs": [
    {
     "name": "stdout",
     "output_type": "stream",
     "text": [
      "https://www.spencerhomesllc.com/images/osproperty/properties/43/medium/43_617ambrose-22.jpeg\n",
      "https://www.spencerhomesllc.com/images/osproperty/properties/43/medium/43_617ambrose-17.jpeg\n",
      "https://www.spencerhomesllc.com/images/osproperty/properties/43/medium/43_617ambrose-16.jpeg\n",
      "https://www.spencerhomesllc.com/images/osproperty/properties/43/medium/43_617ambrose-35.jpeg\n",
      "https://www.spencerhomesllc.com/images/osproperty/properties/43/medium/43_617ambrose-7.jpeg\n",
      "https://www.spencerhomesllc.com/images/osproperty/properties/43/medium/43_617ambrose-25.jpeg\n",
      "https://www.spencerhomesllc.com/images/osproperty/properties/43/medium/43_617ambrose-36.jpeg\n",
      "https://www.spencerhomesllc.com/images/osproperty/properties/38/thumb/381638979668657.jpeg\n",
      "https://www.spencerhomesllc.com/images/osproperty/properties/51/thumb/511643988260629AmbroseDrive.jpg\n",
      "https://www.spencerhomesllc.com/images/osproperty/properties/43/medium/43_617ambrose-27.jpeg\n",
      "https://www.spencerhomesllc.com/images/osproperty/properties/39/thumb/391619469898629FairwayWoodDrive.jpg\n",
      "https://www.spencerhomesllc.com/images/osproperty/properties/43/medium/43_617ambrose-13.jpeg\n",
      "https://www.spencerhomesllc.com/images/osproperty/properties/43/medium/43_617ambrose-5.jpeg\n",
      "https://www.spencerhomesllc.com/images/osproperty/properties/43/medium/43_617ambrose-18.jpeg\n",
      "https://www.spencerhomesllc.com/images/osproperty/properties/43/medium/43_617ambrose-8.jpeg\n",
      "https://www.spencerhomesllc.com/images/osproperty/properties/43/medium/43_617ambrose-30.jpeg\n",
      "https://www.spencerhomesllc.com/images/osproperty/properties/43/medium/43_617ambrose-20.jpeg\n",
      "https://www.spencerhomesllc.com/images/osproperty/properties/43/medium/43_617ambrose-29.jpeg\n",
      "https://www.spencerhomesllc.com/images/osproperty/properties/43/medium/43_617ambrose-24.jpeg\n",
      "https://www.spencerhomesllc.com/images/osproperty/properties/43/medium/43_617ambrose-21.jpeg\n",
      "https://www.spencerhomesllc.com/images/osproperty/properties/43/medium/43_617ambrose-15.jpeg\n",
      "https://www.spencerhomesllc.com/images/osproperty/properties/43/medium/43_617ambrose-14.jpeg\n",
      "https://www.spencerhomesllc.com/images/osproperty/properties/43/medium/43_617ambrose-28.jpeg\n",
      "https://www.spencerhomesllc.com/images/osproperty/properties/43/medium/43_617ambrose-37.jpeg\n",
      "https://www.spencerhomesllc.com/images/osproperty/properties/37/thumb/371619469377661FairwayWoodDrive.jpg\n",
      "https://www.spencerhomesllc.com/images/osproperty/properties/44/thumb/441629912813625AmbroseDrcopy.jpg\n",
      "https://www.spencerhomesllc.com/images/osproperty/properties/43/medium/43_617ambrose-33.jpeg\n",
      "https://www.spencerhomesllc.com/images/osproperty/properties/43/medium/43_617ambrose-34.jpeg\n",
      "https://www.spencerhomesllc.com/images/osproperty/properties/43/medium/43_617ambrose-11.jpeg\n",
      "https://www.spencerhomesllc.com/images/osproperty/properties/43/medium/43_617ambrose-23.jpeg\n",
      "https://www.spencerhomesllc.com/images/osproperty/properties/43/medium/43_617ambrose-32.jpeg\n",
      "https://www.spencerhomesllc.com/images/osproperty/properties/43/medium/43_617ambrose-10.jpeg\n",
      "https://www.spencerhomesllc.com/images/osproperty/properties/43/medium/43_617ambrose-9.jpeg\n",
      "https://www.spencerhomesllc.com/images/osproperty/properties/43/medium/43_617ambrose-31.jpeg\n",
      "https://www.spencerhomesllc.com/images/osproperty/properties/43/medium/43_617ambrose-19.jpeg\n",
      "https://www.spencerhomesllc.com/images/osproperty/properties/43/medium/43_617ambrose-26.jpeg\n",
      "https://www.spencerhomesllc.com/images/osproperty/properties/34/thumb/3416188430883111BiloxiInventory.jpg\n",
      "https://www.spencerhomesllc.com/images/osproperty/properties/43/medium/431638979707617.jpeg\n",
      "https://www.spencerhomesllc.com/images/osproperty/properties/43/medium/43_617ambrose-12.jpeg\n",
      "39\n"
     ]
    }
   ],
   "source": [
    "image_links = print_links(find_image_links(r'html-files/CAREFREE LIVING IN THE ENCLAVE AT AUGUSTA GREEN - Spencer Homes, LLC.html'))"
   ]
  },
  {
   "cell_type": "code",
   "execution_count": 45,
   "metadata": {},
   "outputs": [
    {
     "name": "stdout",
     "output_type": "stream",
     "text": [
      "https://www.eddlemanresidential.com/images/bagallery/gallery_2/thumbnail/category-2/Streetscape-1.jpg\n",
      "/component/rsform/?task=captcha&componentId=27&format=image&sid=222997968\n",
      "https://www.eddlemanresidential.com/images/bagallery/gallery_2/thumbnail/category-2/IMG_1131(web).jpg\n",
      "https://www.eddlemanresidential.com/images/bagallery/gallery_2/thumbnail/category-2/IMG_1124(web).jpg\n",
      "https://www.eddlemanresidential.com/images/bagallery/gallery_2/thumbnail/category-2/Lake2(web).jpg\n",
      "https://www.eddlemanresidential.com/images/bagallery/gallery_2/thumbnail/category-2/IMG_1126(web).jpg\n",
      "/images/equal-house.png\n",
      "https://www.eddlemanresidential.com/images/bagallery/gallery_2/thumbnail/category-2/Clock-Tower-5-web.jpg\n",
      "https://www.eddlemanresidential.com/images/bagallery/gallery_2/thumbnail/category-2/School-3(web).jpg\n",
      "9\n"
     ]
    }
   ],
   "source": [
    "image_links = print_links(find_image_links(r'html-files/Chelsea Park.html'))"
   ]
  },
  {
   "cell_type": "code",
   "execution_count": 46,
   "metadata": {},
   "outputs": [
    {
     "name": "stdout",
     "output_type": "stream",
     "text": [
      "https://skagitdesignhomes.com/wp-content/uploads/2020/08/FrancisADUOver.png\n",
      "https://skagitdesignhomes.com/wp-content/uploads/2020/08/FrancusADURay.jpg\n",
      "https://skagitdesignhomes.com/wp-content/uploads/2020/08/FrancisADUflpl.png\n",
      "3\n"
     ]
    }
   ],
   "source": [
    "image_links = print_links(find_image_links(r'html-files/Francis ADU 896 _ Skagit Design Homes.html'))"
   ]
  },
  {
   "cell_type": "code",
   "execution_count": 47,
   "metadata": {},
   "outputs": [
    {
     "name": "stdout",
     "output_type": "stream",
     "text": [
      "https://sp-ao.shortpixel.ai/client/to_auto,q_glossy,ret_img,w_1399,h_230/https://patejonesconstruction.com/wp-content/uploads/2018/02/Miller-Kitchen.jpg\n",
      "https://patejonesconstruction.com/wp-content/uploads/2018/02/Miller-Kitchen.jpg\n",
      "2\n"
     ]
    }
   ],
   "source": [
    "image_links = print_links(find_image_links(r'html-files/Home _ Pate Jones Construction.html'))"
   ]
  },
  {
   "cell_type": "code",
   "execution_count": 48,
   "metadata": {},
   "outputs": [
    {
     "name": "stdout",
     "output_type": "stream",
     "text": [
      "https://severyn.co/wp-content/uploads/2022/02/8wqykAKM-1.jpg\n",
      "https://severyn.co/wp-content/uploads/2020/11/Snip-Washington-Front.jpg\n",
      "https://severyn.co/wp-content/uploads/2022/02/3aTahVK8-1.jpg\n",
      "https://severyn.co/wp-content/uploads/2022/02/wwhcbKrA-1.jpg\n",
      "https://severyn.co/wp-content/uploads/2022/02/YjyIJphY-1-scaled.jpg\n",
      "https://severyn.co/wp-content/uploads/2022/02/Qp_TE6Ng-1-scaled.jpg\n",
      "https://severyn.co/wp-content/uploads/2022/02/gaqQy9T0-1-scaled.jpg\n",
      "https://severyn.co/wp-content/uploads/2021/08/McKinleySideRoofFoundation.jpg\n",
      "https://severyn.co/wp-content/uploads/2020/12/Severyn-Development_Fillmore-Plan_03.jpg\n",
      "https://severyn.co/wp-content/uploads/2022/02/rQn2wsXo.jpg\n",
      "https://severyn.co/wp-content/uploads/2021/08/MadisonFoundationandSideWall.jpg\n",
      "https://severyn.co/wp-content/uploads/2020/12/Snip-Jefferson-Elevations.jpg\n",
      "https://severyn.co/wp-content/uploads/2020/11/Snip-Washington-Brochure.jpg\n",
      "https://severyn.co/wp-content/uploads/2020/11/Snip-Monroe-Front.jpg\n",
      "https://severyn.co/wp-content/uploads/2022/02/cxBcmBOM-1.jpg\n",
      "https://severyn.co/wp-content/uploads/2020/12/Fillmore.jpg\n",
      "https://severyn.co/wp-content/uploads/2022/02/QW-snYdg-1.jpg\n",
      "https://severyn.co/wp-content/uploads/2020/12/Severyn-Development_Grant-Plan.jpg\n",
      "https://severyn.co/wp-content/uploads/2022/02/0tA4AJUs-1.jpg\n",
      "https://severyn.co/wp-content/uploads/2022/02/z2e2T2m8-1.jpg\n",
      "https://severyn.co/wp-content/uploads/2020/12/Severyn-Development_Cleveland-Plan.jpg\n",
      "https://severyn.co/wp-content/uploads/2022/02/YB7Bq8kU-1.jpg\n",
      "https://severyn.co/wp-content/uploads/2020/11/Severyn-Development_Kennedy-Plan_02.jpg\n",
      "https://severyn.co/wp-content/uploads/2021/08/JacksonElevation2-scaled.jpg\n",
      "https://severyn.co/wp-content/uploads/2022/02/YXjEcb6M-1.jpg\n",
      "https://severyn.co/wp-content/uploads/2022/02/3Z_KK8vY-1.jpg\n",
      "https://severyn.co/wp-content/uploads/2022/02/s4r3SV3o-1-scaled.jpg\n",
      "https://severyn.co/wp-content/uploads/2021/08/McKinleyFront.jpg\n",
      "https://severyn.co/wp-content/uploads/2022/02/rqAGX62w-1-scaled.jpg\n",
      "https://severyn.co/wp-content/uploads/2021/08/JacksonFrontRendering-1.jpg\n",
      "https://severyn.co/wp-content/uploads/2020/11/Severyn-Development_Kennedy-Plan_05.jpg\n",
      "https://severyn.co/wp-content/uploads/2021/08/MadisonImage.jpg\n",
      "https://severyn.co/wp-content/uploads/2020/12/Severyn-Development_Grant-Plan_03.jpg\n",
      "https://severyn.co/wp-content/uploads/2021/08/McKinleyImage.jpg\n",
      "https://severyn.co/wp-content/uploads/2020/11/Snip-Monroe-Brochure.jpg\n",
      "https://severyn.co/wp-content/uploads/2020/12/Severyn-Development_Cleveland-Plan_03.jpg\n",
      "https://severyn.co/wp-content/uploads/2020/11/Snip-Lincoln-Front.jpg\n",
      "https://severyn.co/wp-content/uploads/2021/08/JacksonElevation1.jpg\n",
      "https://severyn.co/wp-content/uploads/2022/02/z4bS9K78-1.jpg\n",
      "https://severyn.co/wp-content/uploads/2022/02/WQjDTKOQ-1.jpg\n",
      "https://severyn.co/wp-content/uploads/2020/11/Snip-Pierce-Brochure.jpg\n",
      "https://severyn.co/wp-content/uploads/2020/12/Severyn-Development_Grant-Plan_02.jpg\n",
      "https://severyn.co/wp-content/uploads/2020/11/Snip-Monroe-Elevations.jpg\n",
      "https://severyn.co/wp-content/uploads/2022/02/XTrZ3G4g-1.jpg\n",
      "https://severyn.co/wp-content/uploads/2020/12/Severyn-Development_Grant-Plan_04.jpg\n",
      "https://severyn.co/wp-content/uploads/2022/02/8rueueQg-1.jpg\n",
      "https://severyn.co/wp-content/uploads/2020/12/Severyn-Development_Cleveland-Plan_04.jpg\n",
      "https://severyn.co/wp-content/uploads/2020/11/Snip-Washtington-Elevations.jpg\n",
      "https://severyn.co/wp-content/uploads/2022/02/Smu1gbRc-1.jpg\n",
      "https://severyn.co/wp-content/uploads/2022/02/xt-nrgts-1-scaled.jpg\n",
      "https://severyn.co/wp-content/uploads/2020/11/Snip-Lincoln-Brochure.jpg\n",
      "https://severyn.co/wp-content/uploads/2021/08/JacksonElevation3-scaled.jpg\n",
      "https://severyn.co/wp-content/uploads/2020/11/Snip-Pierce-Elevations.jpg\n",
      "https://severyn.co/wp-content/uploads/2020/11/Snip-Pierce-Front.jpg\n",
      "https://severyn.co/wp-content/uploads/2020/12/Snip-Jefferson-Front.jpg\n",
      "https://severyn.co/wp-content/uploads/2021/08/JacksonElevation4-1.jpg\n",
      "https://severyn.co/wp-content/uploads/2022/02/Zn-NkNKQ-1-scaled.jpg\n",
      "https://severyn.co/wp-content/uploads/2020/11/Severyn-Development_Kennedy-Plan_03.jpg\n",
      "https://severyn.co/wp-content/uploads/2020/12/Snip-Jefferson-Brochure.jpg\n",
      "https://severyn.co/wp-content/uploads/2022/02/Tgizubus-1.jpg\n",
      "https://severyn.co/wp-content/uploads/2020/12/Severyn-Development_Fillmore-Plan_02.jpg\n",
      "https://severyn.co/wp-content/uploads/2022/02/vgcS4AuM.jpg\n",
      "https://severyn.co/wp-content/uploads/2022/02/SrBx1FiU-1.jpg\n",
      "https://severyn.co/wp-content/uploads/2020/11/Severyn-Development_Kennedy-Plan.jpg\n",
      "https://severyn.co/wp-content/uploads/2022/02/FGtOyx4Y-1-scaled.jpg\n",
      "https://severyn.co/wp-content/uploads/2021/08/MadisonFrontandRearElevations.jpg\n",
      "https://severyn.co/wp-content/uploads/2022/02/t1ed5CRM-1.jpg\n",
      "https://severyn.co/wp-content/uploads/2022/02/Kc1eFr5I-1.jpg\n",
      "https://severyn.co/wp-content/uploads/2020/12/Severyn-Development_Cleveland-Plan_02.jpg\n",
      "https://severyn.co/wp-content/uploads/2020/11/Severyn-Development_Kennedy-Plan_04.jpg\n",
      "https://severyn.co/wp-content/uploads/2020/11/Snip-Lincoln-Elevations.jpg\n",
      "71\n"
     ]
    }
   ],
   "source": [
    "image_links = print_links(find_image_links(r'html-files/Home Plans - Severyn Development.html'))"
   ]
  },
  {
   "cell_type": "code",
   "execution_count": 49,
   "metadata": {},
   "outputs": [
    {
     "name": "stdout",
     "output_type": "stream",
     "text": [
      "http://goughhomesutah.com/wp-content/uploads/2016/05/gough_homes_utah_house_plan_1430_photo-02-400x309.jpg\n",
      "http://goughhomesutah.com/wp-content/uploads/2015/04/gough_homes_warranty-400x199.jpg\n",
      "http://goughhomesutah.com/wp-content/uploads/2016/05/gough_homes_utah_house_plan_1430_photo-02.jpg\n",
      "http://goughhomesutah.com/wp-content/uploads/2016/05/gough_homes_utah_house_plan_1430_photo-01-2-400x309.jpg\n",
      "http://seal-utah.bbb.org/seals/blue-seal-81-171-gough-construction-l-l-c-2000214.png\n",
      "http://goughhomesutah.com/wp-content/uploads/2016/05/gough_homes_utah_house_plan_1430_photo-01-2.jpg\n",
      "6\n"
     ]
    }
   ],
   "source": [
    "image_links = print_links(find_image_links(r'html-files/House Plan 1430 - Gough Homes.html'))"
   ]
  },
  {
   "cell_type": "code",
   "execution_count": 50,
   "metadata": {},
   "outputs": [
    {
     "name": "stdout",
     "output_type": "stream",
     "text": [
      "https://newporthomesaz.com/wp-content/uploads/2019/06/DenverNew.png\n",
      "https://newporthomesaz.com/wp-content/uploads/2019/08/Huntington3.jpg\n",
      "https://newporthomesaz.com/wp-content/uploads/2019/08/Huntington5.jpg\n",
      "https://newporthomesaz.com/wp-content/uploads/2019/04/circle.png\n",
      "https://newporthomesaz.com/wp-content/uploads/2019/08/PecanCoveExteriorHome.jpg\n",
      "https://newporthomesaz.com/wp-content/uploads/2019/06/GrayRealtor.png\n",
      "https://newporthomesaz.com/wp-content/uploads/2019/08/Huntington4.jpg\n",
      "https://newporthomesaz.com/wp-content/uploads/2019/06/Gray-Equal.png\n",
      "https://newporthomesaz.com/wp-content/uploads/2019/08/Huntington1.jpg\n",
      "https://newporthomesaz.com/wp-content/uploads/2019/06/3501_C-1200x800-1024x800.jpg\n",
      "10\n"
     ]
    }
   ],
   "source": [
    "image_links = print_links(find_image_links(r'html-files/Huntington - Newport Homes.html'))"
   ]
  },
  {
   "cell_type": "code",
   "execution_count": 51,
   "metadata": {},
   "outputs": [
    {
     "name": "stdout",
     "output_type": "stream",
     "text": [
      "\"https://static.wixstatic.com/media/3a2dc8_dc265c0e93ff44fcaad2a9557c1b1a3a~mv2.jpg/v1/fill/w_80,h_80,q_70/3a2dc8_dc265c0e93ff44fcaad2a9557c1b1a3a~mv2.jpg\"\n",
      "https://static.wixstatic.com/media/3a2dc8_cfb65a5df7a84c73a240706b30ff0158~mv2.png/v1/fit/w_409,h_308,q_90/3a2dc8_cfb65a5df7a84c73a240706b30ff0158~mv2.png\n",
      "https://static.wixstatic.com/media/3a2dc8_951fbdc7c073461f93c4e91584f6eeba~mv2.jpg/v1/fill/w_1470,h_902,al_c,q_85,usm_0.66_1.00_0.01/3a2dc8_951fbdc7c073461f93c4e91584f6eeba~mv2.webp\n",
      "https://static.wixstatic.com/media/3a2dc8_dc265c0e93ff44fcaad2a9557c1b1a3a~mv2.jpg/v1/fit/w_409,h_308,q_90/3a2dc8_dc265c0e93ff44fcaad2a9557c1b1a3a~mv2.jpg\n",
      "https://static.wixstatic.com/media/3a2dc8_7c6251ad57e746b69948e22ac18c2408~mv2.jpg/v1/fill/w_1470,h_84,al_c,q_80,usm_0.66_1.00_0.01/3a2dc8_7c6251ad57e746b69948e22ac18c2408~mv2.webp\n",
      "https://static.wixstatic.com/media/3a2dc8_a450d9a05475454791cb7ca44b77db5e~mv2.jpg/v1/fit/w_409,h_308,q_90/3a2dc8_a450d9a05475454791cb7ca44b77db5e~mv2.jpg\n",
      "\"https://static.wixstatic.com/media/3a2dc8_cfb65a5df7a84c73a240706b30ff0158~mv2.png/v1/fill/w_80,h_80,q_70/3a2dc8_cfb65a5df7a84c73a240706b30ff0158~mv2.png\"\n",
      "https://static.wixstatic.com/media/3a2dc8_dcfb74c551d047a682a5a6bb2206a51e~mv2.jpg/v1/fit/w_260,h_173,q_90/3a2dc8_dcfb74c551d047a682a5a6bb2206a51e~mv2.jpg\n",
      "\"https://static.wixstatic.com/media/3a2dc8_44e38e41a52b449ab4f6088ffc7723be~mv2.jpg/v1/fill/w_80,h_80,q_70/3a2dc8_44e38e41a52b449ab4f6088ffc7723be~mv2.jpg\"\n",
      "https://static.wixstatic.com/media/3a2dc8_5d63aa706a884b3fb5f8061bf3fde902~mv2.png/v1/fill/w_114,h_63,al_c,usm_0.66_1.00_0.01,blur_3,enc_auto/national-association-of-home-builders-na.png\n",
      "https://static.wixstatic.com/media/3a2dc8_194e6956008d4a56a0ed6f6943d48413~mv2.png/v1/crop/x_9,y_32,w_271,h_87/fill/w_153,h_49,al_c,usm_0.66_1.00_0.01,blur_3,enc_auto/KC%20HBA-home-partner.png\n",
      "https://static.wixstatic.com/media/3a2dc8_5c7f9b9b21ae40d1a8fa6e6206e6d8a5~mv2.jpg/v1/fit/w_409,h_308,q_90/3a2dc8_5c7f9b9b21ae40d1a8fa6e6206e6d8a5~mv2.jpg\n",
      "\"https://static.wixstatic.com/media/3a2dc8_02d860568e21457eb97f164713dcdd85~mv2.jpg/v1/fill/w_80,h_80,q_70/3a2dc8_02d860568e21457eb97f164713dcdd85~mv2.jpg\"\n",
      "\"https://static.wixstatic.com/media/3a2dc8_dcfb74c551d047a682a5a6bb2206a51e~mv2.jpg/v1/fill/w_80,h_80,q_70/3a2dc8_dcfb74c551d047a682a5a6bb2206a51e~mv2.jpg\"\n",
      "https://static.wixstatic.com/media/3a2dc8_44e38e41a52b449ab4f6088ffc7723be~mv2.jpg/v1/fit/w_409,h_308,q_90/3a2dc8_44e38e41a52b449ab4f6088ffc7723be~mv2.jpg\n",
      "https://static.wixstatic.com/media/3a2dc8_02d860568e21457eb97f164713dcdd85~mv2.jpg/v1/fit/w_409,h_308,q_90/3a2dc8_02d860568e21457eb97f164713dcdd85~mv2.jpg\n",
      "\"https://static.wixstatic.com/media/3a2dc8_ada0a6c3a5ab489abebcbeffccf2a760~mv2.jpg/v1/fill/w_80,h_80,q_70/3a2dc8_ada0a6c3a5ab489abebcbeffccf2a760~mv2.jpg\"\n",
      "https://static.wixstatic.com/media/3a2dc8_94cb5df4949445198e5d24b6c63985d1~mv2.jpg/v1/fit/w_409,h_308,q_90/3a2dc8_94cb5df4949445198e5d24b6c63985d1~mv2.jpg\n",
      "https://static.wixstatic.com/media/3a2dc8_16a9632d7a6d43bc8734ee26390a7ff8~mv2.jpg/v1/fit/w_409,h_308,q_90/3a2dc8_16a9632d7a6d43bc8734ee26390a7ff8~mv2.jpg\n",
      "\"https://static.wixstatic.com/media/3a2dc8_5c7f9b9b21ae40d1a8fa6e6206e6d8a5~mv2.jpg/v1/fill/w_80,h_80,q_70/3a2dc8_5c7f9b9b21ae40d1a8fa6e6206e6d8a5~mv2.jpg\"\n",
      "https://static.wixstatic.com/media/3a2dc8_ada0a6c3a5ab489abebcbeffccf2a760~mv2.jpg/v1/fit/w_409,h_308,q_90/3a2dc8_ada0a6c3a5ab489abebcbeffccf2a760~mv2.jpg\n",
      "21\n"
     ]
    }
   ],
   "source": [
    "image_links = print_links(find_image_links(r\"html-files/Lake Winnebago _ Pfeifer Homes Inc. _ Lee's Summit Kansas City.html\"))"
   ]
  },
  {
   "cell_type": "code",
   "execution_count": 52,
   "metadata": {},
   "outputs": [
    {
     "name": "stdout",
     "output_type": "stream",
     "text": [
      "https://heartlandbuilders.com/wp-content/uploads/2021/02/COMPLETED_PROJECTS-scaled.jpeg\n",
      "https://heartlandbuilders.com/wp-content/uploads/2021/02/McCabe-Base-Exterior-1-scaled.jpg\n",
      "/wp-content/uploads/2020/10/Group-166.png\n",
      "/wp-content/uploads/2020/10/Path-78.png\n",
      "/wp-content/uploads/2020/10/Group-163.png\n",
      "/wp-content/uploads/2020/10/Group-165.png\n",
      "https://heartlandbuilders.com/wp-content/uploads/2021/02/WHERE_WE_BUILD_IMAGE-scaled.jpeg\n",
      "7\n"
     ]
    }
   ],
   "source": [
    "image_links = print_links(find_image_links(r'html-files/McCabe Floor Plan _ Heartland Builders.html'))"
   ]
  },
  {
   "cell_type": "code",
   "execution_count": 53,
   "metadata": {},
   "outputs": [
    {
     "name": "stdout",
     "output_type": "stream",
     "text": [
      "https://static.wixstatic.com/media/3a2dc8_7c6251ad57e746b69948e22ac18c2408~mv2.jpg/v1/fill/w_1470,h_84,al_c,q_80,usm_0.66_1.00_0.01/3a2dc8_7c6251ad57e746b69948e22ac18c2408~mv2.webp\n",
      "\"https://static.wixstatic.com/media/3a2dc8_4bfa666237494f5890daf98807d89b2a~mv2.jpg/v1/fill/w_80,h_80,q_70/3a2dc8_4bfa666237494f5890daf98807d89b2a~mv2.jpg\"\n",
      "https://static.wixstatic.com/media/3a2dc8_194e6956008d4a56a0ed6f6943d48413~mv2.png/v1/crop/x_9,y_32,w_271,h_87/fill/w_251,h_74,al_c,q_85,usm_0.66_1.00_0.01/KC%20HBA-home-partner.webp\n",
      "\"https://static.wixstatic.com/media/3a2dc8_22d881809cc94a958fe43f5db4430367~mv2.jpg/v1/fill/w_80,h_80,q_70/3a2dc8_22d881809cc94a958fe43f5db4430367~mv2.jpg\"\n",
      "\"https://static.wixstatic.com/media/3a2dc8_40084724ccc54d32bb40df4b89520a05~mv2.jpg/v1/fill/w_80,h_80,q_70/3a2dc8_40084724ccc54d32bb40df4b89520a05~mv2.jpg\"\n",
      "https://static.wixstatic.com/media/3a2dc8_5d63aa706a884b3fb5f8061bf3fde902~mv2.png/v1/fill/w_165,h_95,al_c,q_85,usm_0.66_1.00_0.01/national-association-of-home-builders-na.webp\n",
      "\"https://static.wixstatic.com/media/3a2dc8_bd5b68a8c1074e9ca9bf997589babb64~mv2.jpg/v1/fill/w_80,h_80,q_70/3a2dc8_bd5b68a8c1074e9ca9bf997589babb64~mv2.jpg\"\n",
      "\"https://static.wixstatic.com/media/3a2dc8_37664add209d4027b752259c4f10cda2~mv2.jpg/v1/fill/w_80,h_80,q_70/3a2dc8_37664add209d4027b752259c4f10cda2~mv2.jpg\"\n",
      "https://static.wixstatic.com/media/3a2dc8_4bfa666237494f5890daf98807d89b2a~mv2.jpg/v1/fill/w_367,h_240,q_90/3a2dc8_4bfa666237494f5890daf98807d89b2a~mv2.jpg\n",
      "https://static.wixstatic.com/media/3a2dc8_22d881809cc94a958fe43f5db4430367~mv2.jpg/v1/fill/w_367,h_240,q_90/3a2dc8_22d881809cc94a958fe43f5db4430367~mv2.jpg\n",
      "https://static.wixstatic.com/media/3a2dc8_1692b686aea04746af2df8d09c9e627b~mv2.jpg/v1/fill/w_234,h_303,al_c,q_80,usm_0.66_1.00_0.01/Riviera%201467%20WV%20Phase%2032%20Plan%20Page%20Color.webp\n",
      "\"https://static.wixstatic.com/media/3a2dc8_b89fb8219b914a1b8412b5ca175e49e2~mv2.jpg/v1/fill/w_80,h_80,q_70/3a2dc8_b89fb8219b914a1b8412b5ca175e49e2~mv2.jpg\"\n",
      "\"https://static.wixstatic.com/media/3a2dc8_818ba9f71bd0457aac28265d07c88b08~mv2.jpg/v1/fill/w_80,h_80,q_70/3a2dc8_818ba9f71bd0457aac28265d07c88b08~mv2.jpg\"\n",
      "https://static.wixstatic.com/media/3a2dc8_951fbdc7c073461f93c4e91584f6eeba~mv2.jpg/v1/fill/w_1470,h_902,al_c,q_85,usm_0.66_1.00_0.01/3a2dc8_951fbdc7c073461f93c4e91584f6eeba~mv2.webp\n",
      "14\n"
     ]
    }
   ],
   "source": [
    "image_links = print_links(find_image_links(r\"html-files/Riviera _ Pfeifer Homes Inc. _ Lee's Summit kansas City.html\"))"
   ]
  },
  {
   "cell_type": "code",
   "execution_count": 54,
   "metadata": {},
   "outputs": [
    {
     "name": "stdout",
     "output_type": "stream",
     "text": [
      "https://gateway-const.com/wp-content/uploads/2020/08/Teton-Cover-400x205.jpg\n",
      "https://gateway-const.com/wp-content/uploads/2020/08/3D-Alder-Designer-349x270.png\n",
      "https://gateway-const.com/wp-content/uploads/2020/07/Gallatin-Cover-400x175.jpg\n",
      "https://gateway-const.com/wp-content/uploads/2021/07/Ironwood-Cover-400x162.jpg\n",
      "https://gateway-const.com/wp-content/uploads/2020/07/Birch-Cover-400x162.jpg\n",
      "https://gateway-const.com/wp-content/uploads/2020/07/Wellington-Cover-400x247.jpg\n",
      "https://gateway-const.com/wp-content/uploads/2020/08/Willow-Cover-400x215.jpg\n",
      "https://gateway-const.com/wp-content/uploads/2020/07/Fairview-Cover-400x190.jpg\n",
      "https://gateway-const.com/wp-content/uploads/2020/07/Linden-Cover-400x214.jpg\n",
      "https://gateway-const.com/wp-content/uploads/2020/07/4004-Farthing-Rd.-3DM.jpg\n",
      "https://gateway-const.com/wp-content/uploads/2020/07/Bighorn-II-Cover-400x166.jpg\n",
      "https://gateway-const.com/wp-content/uploads/2020/07/Cheyenne-Cover-400x224.jpg\n",
      "https://gateway-const.com/wp-content/uploads/2020/11/Hawthorn-Cover-400x168.jpg\n",
      "https://gateway-const.com/wp-content/uploads/2021/12/4004-Farthing-Rd.-3DM-361x270.jpg\n",
      "14\n"
     ]
    }
   ],
   "source": [
    "image_links = print_links(find_image_links(r'html-files/Saddle Ridge - Gateway Construction.html'))"
   ]
  },
  {
   "cell_type": "code",
   "execution_count": 55,
   "metadata": {},
   "outputs": [
    {
     "name": "stdout",
     "output_type": "stream",
     "text": [
      "0\n"
     ]
    }
   ],
   "source": [
    "image_links = print_links(find_image_links(r'html-files/THE DAWSON - Colorado Springs Custom Homes by Jayden Homes.html'))"
   ]
  },
  {
   "cell_type": "code",
   "execution_count": 56,
   "metadata": {},
   "outputs": [
    {
     "name": "stdout",
     "output_type": "stream",
     "text": [
      "https://dlqxt4mfnxo6k.cloudfront.net/inspired-homes.com/aHR0cHM6Ly9zMy5hbWF6b25hd3MuY29tL2J1aWxkZXJjbG91ZC8wNjZmZGI1NTg5YWE5Nzk4OWJkY2VhZWYwMjY0MDhlYy5qcGVn/400/400\n",
      "https://dlqxt4mfnxo6k.cloudfront.net/inspired-homes.com/aHR0cHM6Ly9zMy5hbWF6b25hd3MuY29tL2Jhc2UtYWRtaW4yL2luc3BpcmVkLWhvbWVzLmNvbS85NzEyNzU5MDMyODQ1NDlfbG90XzM4NV85MDc0X21lc3F1aXRlX3N0Xy1fMjAuanBn/400/400\n",
      "https://dlqxt4mfnxo6k.cloudfront.net/inspired-homes.com/aHR0cHM6Ly9zMy5hbWF6b25hd3MuY29tL2J1aWxkZXJjbG91ZC9jZjQ2OGM4OGJmMTJjMDFhZjQ3NmRkNDllMTg1Y2M2NC5qcGVn/400/400\n",
      "https://dlqxt4mfnxo6k.cloudfront.net/inspired-homes.com/aHR0cHM6Ly9zMy5hbWF6b25hd3MuY29tL2J1aWxkZXJjbG91ZC9kN2YwY2E0MzQ1MDNjYTFmZjBjMWExNGVhMDE1MzIzOS5qcGVn/400/400\n",
      "https://dlqxt4mfnxo6k.cloudfront.net/inspired-homes.com/aHR0cHM6Ly9zMy5hbWF6b25hd3MuY29tL2Jhc2UtYWRtaW4yL2luc3BpcmVkLWhvbWVzLmNvbS82MzYwMjcyMjIwMzM1OTBfbG90XzM4NV85MDc0X21lc3F1aXRlX3N0Xy1fMTUuanBn/400/400\n",
      "https://dlqxt4mfnxo6k.cloudfront.net/inspired-homes.com/aHR0cHM6Ly9zMy5hbWF6b25hd3MuY29tL2Jhc2UtYWRtaW4yL2luc3BpcmVkLWhvbWVzLmNvbS8zMTQ2OTgxMzU0ODAyOF9sb3RfMzg1XzkwNzRfbWVzcXVpdGVfc3RfLV8wNC5qcGc=/400/400\n",
      "https://dlqxt4mfnxo6k.cloudfront.net/inspired-homes.com/aHR0cHM6Ly9zMy5hbWF6b25hd3MuY29tL2J1aWxkZXJjbG91ZC9kZTZkMTMyZmFhYmZjYzU4MTBiYjJlNWU4YjU4ODE2Ni5qcGVn/400/400\n",
      "https://dlqxt4mfnxo6k.cloudfront.net/inspired-homes.com/aHR0cHM6Ly9zMy5hbWF6b25hd3MuY29tL2J1aWxkZXJjbG91ZC8yMjMzMDcyNWUxMWVhZjBhYTNhOTQ1Yjk2MmE1YzdkNy5qcGVn/400/400\n",
      "https://dlqxt4mfnxo6k.cloudfront.net/inspired-homes.com/aHR0cHM6Ly9zMy5hbWF6b25hd3MuY29tL2J1aWxkZXJjbG91ZC8xY2RjYmQxNDI0NmE5ZGZhZGI3YjFiNDYwMzhmNjhmNS5qcGVn/600/600\n",
      "https://dlqxt4mfnxo6k.cloudfront.net/inspired-homes.com/aHR0cHM6Ly9zMy5hbWF6b25hd3MuY29tL2J1aWxkZXJjbG91ZC8zZWEzNTBjMzA3OTM5YjA5MTRkZGUyYWE5ZjcwMGIzNi5qcGVn/400/400\n",
      "https://dlqxt4mfnxo6k.cloudfront.net/inspired-homes.com/aHR0cHM6Ly9zMy5hbWF6b25hd3MuY29tL2J1aWxkZXJjbG91ZC8xMzgyNjM0Y2E4N2I1NWQxMjhhNTU0NzViN2FiYmIyNy5qcGVn/600/600\n",
      "https://dlqxt4mfnxo6k.cloudfront.net/inspired-homes.com/aHR0cHM6Ly9zMy5hbWF6b25hd3MuY29tL2J1aWxkZXJjbG91ZC8wMjMzOGM0ZjAxNjcxNDJiY2RiNzM0NzcwMTUxMDY5ZC5qcGVn/400/400\n",
      "https://dlqxt4mfnxo6k.cloudfront.net/inspired-homes.com/aHR0cHM6Ly9zMy5hbWF6b25hd3MuY29tL2J1aWxkZXJjbG91ZC9hYWE5Y2YyM2ZhOGM5MWYyNzQ5ZDRmNTYyMmE2NTkxYi5qcGVn/400/400\n",
      "https://dlqxt4mfnxo6k.cloudfront.net/inspired-homes.com/aHR0cHM6Ly9zMy5hbWF6b25hd3MuY29tL2J1aWxkZXJjbG91ZC80Y2YyYTJiOWZjMjEzMDg2NjA0NmY5NTkxYmJhMTkzYS5qcGVn/600/600\n",
      "https://dlqxt4mfnxo6k.cloudfront.net/inspired-homes.com/aHR0cHM6Ly9zMy5hbWF6b25hd3MuY29tL2J1aWxkZXJjbG91ZC8zYTZhM2Y5NzNmY2U1ZDcxNjBmM2I5YzdkMDE2ZDY4MC5qcGVn/600/600\n",
      "https://dlqxt4mfnxo6k.cloudfront.net/inspired-homes.com/aHR0cHM6Ly9zMy5hbWF6b25hd3MuY29tL2J1aWxkZXJjbG91ZC9lMDhlYjJkZjI4MzM1MmVjMWUxMTNlMjM2YzVmNDIyNC5qcGVn/400/400\n",
      "https://dlqxt4mfnxo6k.cloudfront.net/inspired-homes.com/aHR0cHM6Ly9zMy5hbWF6b25hd3MuY29tL2J1aWxkZXJjbG91ZC9mNTkwNTk5NmEzYzExZWYzYjM4ZjkxZWZiYjkyMmUyMS5qcGVn/400/400\n",
      "https://dlqxt4mfnxo6k.cloudfront.net/inspired-homes.com/aHR0cHM6Ly9zMy5hbWF6b25hd3MuY29tL2J1aWxkZXJjbG91ZC8xY2RjYmQxNDI0NmE5ZGZhZGI3YjFiNDYwMzhmNjhmNS5qcGVn/exact/600/600\n",
      "https://dlqxt4mfnxo6k.cloudfront.net/inspired-homes.com/aHR0cHM6Ly9zMy5hbWF6b25hd3MuY29tL2J1aWxkZXJjbG91ZC9hMWQyZTA5MGNkYTNhMWZhM2FhZTBlNGUxYTMyMjI2MC5qcGVn/400/400\n",
      "https://dlqxt4mfnxo6k.cloudfront.net/inspired-homes.com/aHR0cHM6Ly9zMy5hbWF6b25hd3MuY29tL2J1aWxkZXJjbG91ZC9mMDU0OGFiZmU1NGM2MDI0MWQ2Y2IxYTE4M2Q4YjU0My5qcGVn/400/400\n",
      "https://dlqxt4mfnxo6k.cloudfront.net/inspired-homes.com/aHR0cHM6Ly9zMy5hbWF6b25hd3MuY29tL2J1aWxkZXJjbG91ZC8yNjFhOTAzNzk3ZmU1YjI5MDVlMDg5NjYzOWQ2ZTYxZC5qcGVn/400/400\n",
      "https://dlqxt4mfnxo6k.cloudfront.net/inspired-homes.com/aHR0cHM6Ly9zMy5hbWF6b25hd3MuY29tL2Jhc2UtYWRtaW4yL2luc3BpcmVkLWhvbWVzLmNvbS82NjUyNjA2MTI5NjQ2MzBfbG90XzM4NV85MDc0X21lc3F1aXRlX3N0Xy1fMDguanBn/400/400\n",
      "https://dlqxt4mfnxo6k.cloudfront.net/inspired-homes.com/aHR0cHM6Ly9zMy5hbWF6b25hd3MuY29tL2J1aWxkZXJjbG91ZC8xYjdjOWY1NTVmZjg0MGFiZTQxM2QzYThlZjFjMjAxYy5qcGVn/400/400\n",
      "https://dlqxt4mfnxo6k.cloudfront.net/inspired-homes.com/aHR0cHM6Ly9zMy5hbWF6b25hd3MuY29tL2J1aWxkZXJjbG91ZC82NmM5YmYxMjFlNjhiYzRlYjJiMjhlYTY0NjMxNGQzZC5qcGVn/400/400\n",
      "https://dlqxt4mfnxo6k.cloudfront.net/inspired-homes.com/aHR0cHM6Ly9zMy5hbWF6b25hd3MuY29tL2Jhc2UtYWRtaW4yL2luc3BpcmVkLWhvbWVzLmNvbS8xODEzMzczOTM4MjAyODVfbG90XzM4NV85MDc0X21lc3F1aXRlX3N0Xy1fMTcuanBn/400/400\n",
      "https://dlqxt4mfnxo6k.cloudfront.net/inspired-homes.com/aHR0cHM6Ly9zMy5hbWF6b25hd3MuY29tL2J1aWxkZXJjbG91ZC9mN2M0MTY1NmViNGY5MmY2M2UyZmY2NjlmMjE0OTViNi5qcGVn/400/400\n",
      "https://dlqxt4mfnxo6k.cloudfront.net/inspired-homes.com/aHR0cHM6Ly9zMy5hbWF6b25hd3MuY29tL2Jhc2UtYWRtaW4yL2luc3BpcmVkLWhvbWVzLmNvbS81NTE2MTMzNzk3MzU0OTlfbG90XzM4NV85MDc0X21lc3F1aXRlX3N0Xy1fMDMuanBn/400/400\n",
      "https://dlqxt4mfnxo6k.cloudfront.net/inspired-homes.com/aHR0cHM6Ly9zMy5hbWF6b25hd3MuY29tL2Jhc2UtYWRtaW4yL2luc3BpcmVkLWhvbWVzLmNvbS8xMjkwNTM5ODA1Nzc3MzdfbG90XzM4NV85MDc0X21lc3F1aXRlX3N0Xy1fMjEuanBn/400/400\n",
      "https://dlqxt4mfnxo6k.cloudfront.net/inspired-homes.com/aHR0cHM6Ly9zMy5hbWF6b25hd3MuY29tL2J1aWxkZXJjbG91ZC8zMGRhN2RhOTRiYmZkMDQyNWQ0ODRkNDc0NzMwMzg3Zi5qcGVn/400/400\n",
      "https://dlqxt4mfnxo6k.cloudfront.net/inspired-homes.com/aHR0cHM6Ly9zMy5hbWF6b25hd3MuY29tL2Jhc2UtYWRtaW4yL2luc3BpcmVkLWhvbWVzLmNvbS8xNTA3NjgwMDgwODMxMDVfbG90XzM4NV85MDc0X21lc3F1aXRlX3N0Xy1fMTYuanBn/400/400\n",
      "https://dlqxt4mfnxo6k.cloudfront.net/inspired-homes.com/aHR0cHM6Ly9zMy5hbWF6b25hd3MuY29tL2Jhc2UtYWRtaW4yL2luc3BpcmVkLWhvbWVzLmNvbS8xNjM1MDg0NDA4MzM1MzhfbG90XzM4NV85MDc0X21lc3F1aXRlX3N0Xy1fMTQuanBn/400/400\n",
      "https://dlqxt4mfnxo6k.cloudfront.net/inspired-homes.com/aHR0cHM6Ly9zMy5hbWF6b25hd3MuY29tL2J1aWxkZXJjbG91ZC82NjFmMWNlNDAwMTY5ZmJlZThhZTlmN2Q0YWFjZmU5YS5qcGVn/400/400\n",
      "https://dlqxt4mfnxo6k.cloudfront.net/inspired-homes.com/aHR0cHM6Ly9zMy5hbWF6b25hd3MuY29tL2J1aWxkZXJjbG91ZC9jODA2ZjQxZGI5NThkMzgxY2VmODNjNTk4NGIwMjI4MC5qcGVn/400/400\n",
      "https://dlqxt4mfnxo6k.cloudfront.net/inspired-homes.com/aHR0cHM6Ly9zMy5hbWF6b25hd3MuY29tL2J1aWxkZXJjbG91ZC9kN2YyMzFkOThkODQ4ZjcyZTE4MWI3NWFlNDdjYTA3Mi5qcGVn/600/600\n",
      "https://dlqxt4mfnxo6k.cloudfront.net/inspired-homes.com/aHR0cHM6Ly9zMy5hbWF6b25hd3MuY29tL2J1aWxkZXJjbG91ZC8yMGIzZTRlNDEzNDljNDM3M2QzMGNjNmY5MmFlN2RjZS5qcGVn/400/400\n",
      "https://dlqxt4mfnxo6k.cloudfront.net/inspired-homes.com/aHR0cHM6Ly9zMy5hbWF6b25hd3MuY29tL2J1aWxkZXJjbG91ZC9lMmI0OTk4OWYwMGJhYzZmMWY4OTlhNzY0YmQ5ZDZlMy5qcGVn/400/400\n",
      "https://dlqxt4mfnxo6k.cloudfront.net/inspired-homes.com/aHR0cHM6Ly9zMy5hbWF6b25hd3MuY29tL2J1aWxkZXJjbG91ZC8wOGIzNDdiZjIyN2RkZWE0MzNiMTYyOTJlODFjYThhOS5qcGVn/400/400\n",
      "https://dlqxt4mfnxo6k.cloudfront.net/inspired-homes.com/aHR0cHM6Ly9zMy5hbWF6b25hd3MuY29tL2Jhc2UtYWRtaW4yL2luc3BpcmVkLWhvbWVzLmNvbS8zNzkzODc0NDcxNDQ4MzZfbG90XzM4NV85MDc0X21lc3F1aXRlX3N0Xy1fMTkuanBn/400/400\n",
      "https://dlqxt4mfnxo6k.cloudfront.net/inspired-homes.com/aHR0cHM6Ly9zMy5hbWF6b25hd3MuY29tL2Jhc2UtYWRtaW4yL2luc3BpcmVkLWhvbWVzLmNvbS80MjIwMDMzNDQ2MzI2ODVfbG90XzM4NV85MDc0X21lc3F1aXRlX3N0Xy1fMjIuanBn/400/400\n",
      "https://dlqxt4mfnxo6k.cloudfront.net/inspired-homes.com/aHR0cHM6Ly9zMy5hbWF6b25hd3MuY29tL2J1aWxkZXJjbG91ZC82NjNmYjZmYTFlOGFlNzU1MmEzNzQ3YmNlY2JmMTYyZi5qcGVn/400/400\n",
      "https://dlqxt4mfnxo6k.cloudfront.net/inspired-homes.com/aHR0cHM6Ly9zMy5hbWF6b25hd3MuY29tL2J1aWxkZXJjbG91ZC9iZDc1MDhiMGM1ZmFjYThkMmUwZDVjNzZkZjFlOTE2MC5qcGVn/600/600\n",
      "https://dlqxt4mfnxo6k.cloudfront.net/inspired-homes.com/aHR0cHM6Ly9zMy5hbWF6b25hd3MuY29tL2Jhc2UtYWRtaW4yL2luc3BpcmVkLWhvbWVzLmNvbS81OTcwMjExMDA1NzY5NjdfbG90XzM4NV85MDc0X21lc3F1aXRlX3N0Xy1fMTEuanBn/400/400\n",
      "https://dlqxt4mfnxo6k.cloudfront.net/inspired-homes.com/aHR0cHM6Ly9zMy5hbWF6b25hd3MuY29tL2J1aWxkZXJjbG91ZC84ZGJhODgxZTE5ZWNkZTMwMDg1OWUyYTJhOGFhODUyYy5qcGVn/400/400\n",
      "https://dlqxt4mfnxo6k.cloudfront.net/inspired-homes.com/aHR0cHM6Ly9zMy5hbWF6b25hd3MuY29tL2J1aWxkZXJjbG91ZC9iNmY0MjJiMzRiMjZmNmJlYjhiZTdhYjVjZjM5YTViYi5qcGVn/400/400\n",
      "https://dlqxt4mfnxo6k.cloudfront.net/inspired-homes.com/aHR0cHM6Ly9zMy5hbWF6b25hd3MuY29tL2Jhc2UtYWRtaW4yL2luc3BpcmVkLWhvbWVzLmNvbS80MjY1MzkwMDE1MjA3MjNfbG90XzM4NV85MDc0X21lc3F1aXRlX3N0Xy1fMTMuanBn/400/400\n",
      "https://dlqxt4mfnxo6k.cloudfront.net/inspired-homes.com/aHR0cHM6Ly9zMy5hbWF6b25hd3MuY29tL2J1aWxkZXJjbG91ZC9mOTdjYmZiMjY4ZmU0Y2NiNTg3YjQ2NmMyZGY3YzcxNS5qcGVn/400/400\n",
      "https://dlqxt4mfnxo6k.cloudfront.net/inspired-homes.com/aHR0cHM6Ly9zMy5hbWF6b25hd3MuY29tL2Jhc2UtYWRtaW4yL2luc3BpcmVkLWhvbWVzLmNvbS8zNzkzODc0NDcxNDQ4MzZfbG90XzM4NV85MDc0X21lc3F1aXRlX3N0Xy1fMTkuanBn/2000/2000\n",
      "https://dlqxt4mfnxo6k.cloudfront.net/inspired-homes.com/aHR0cHM6Ly9zMy5hbWF6b25hd3MuY29tL2J1aWxkZXJjbG91ZC9kY2Q2MDRjMWYyNTA5NTk3MTUxZTNmOWNiMWVjMGU0Mi5qcGVn/400/400\n",
      "https://dlqxt4mfnxo6k.cloudfront.net/inspired-homes.com/aHR0cHM6Ly9zMy5hbWF6b25hd3MuY29tL2J1aWxkZXJjbG91ZC9mMWE5YWYwOTVkODU5ODc3NTJmZWI3NDNmZWRkZWEzOC5qcGVn/400/400\n",
      "49\n"
     ]
    }
   ],
   "source": [
    "image_links = print_links(find_image_links(r'html-files/The Westbrook _ Inspired Homes.html'))"
   ]
  },
  {
   "cell_type": "code",
   "execution_count": 57,
   "metadata": {},
   "outputs": [
    {
     "name": "stdout",
     "output_type": "stream",
     "text": [
      "https://dlqxt4mfnxo6k.cloudfront.net/countybuildersinc.com/aHR0cHM6Ly9zMy5hbWF6b25hd3MuY29tL2Jhc2UtYWRtaW4yL2NvdW50eWJ1aWxkZXJzaW5jLmNvbS83ODAyOTg3ODk5NjMxMjZfZHNjXzAyNzVfLV9jb3B5XzIuanBn/exact/600/400\n",
      "https://dlqxt4mfnxo6k.cloudfront.net/countybuildersinc.com/aHR0cHM6Ly9zMy5hbWF6b25hd3MuY29tL2Jhc2UtYWRtaW4yL2NvdW50eWJ1aWxkZXJzaW5jLmNvbS8zNTMzNDI0NTUzNDYxMzdfZHNjXzAzNzEuanBn/exact/600/400\n",
      "https://dlqxt4mfnxo6k.cloudfront.net/countybuildersinc.com/aHR0cHM6Ly9zMy5hbWF6b25hd3MuY29tL2Jhc2UtYWRtaW4yL2NvdW50eWJ1aWxkZXJzaW5jLmNvbS83MTYzMzQ5OTYyNzkzMjlfZHNjXzAzMzAuanBn/exact/600/400\n",
      "https://dlqxt4mfnxo6k.cloudfront.net/countybuildersinc.com/aHR0cHM6Ly9zMy5hbWF6b25hd3MuY29tL2Jhc2UtYWRtaW4yL2NvdW50eWJ1aWxkZXJzaW5jLmNvbS83MDkwNzM4MzAzOTU5MzdfZHNjXzAzNDQuanBn/exact/600/400\n",
      "https://dlqxt4mfnxo6k.cloudfront.net/countybuildersinc.com/aHR0cHM6Ly9zMy5hbWF6b25hd3MuY29tL2J1aWxkZXJjbG91ZC8xNzExNjUzYjAyZDM3NDRhODc3ZjBjZGMxZjFjZWViZS5qcGVn/exact/600/400\n",
      "https://dlqxt4mfnxo6k.cloudfront.net/countybuildersinc.com/aHR0cHM6Ly9zMy5hbWF6b25hd3MuY29tL2Jhc2UtYWRtaW4yL2NvdW50eWJ1aWxkZXJzaW5jLmNvbS84MTIwMDc0ODgyMTcyMDRfZHNjXzAzNDkuanBn/exact/600/400\n",
      "https://dlqxt4mfnxo6k.cloudfront.net/countybuildersinc.com/aHR0cHM6Ly9zMy5hbWF6b25hd3MuY29tL2Jhc2UtYWRtaW4yL2NvdW50eWJ1aWxkZXJzaW5jLmNvbS84MzQ2MzY5OTY5NjU4NTVfZHNjXzAzNTguanBn/exact/600/400\n",
      "https://dlqxt4mfnxo6k.cloudfront.net/countybuildersinc.com/aHR0cHM6Ly9zMy5hbWF6b25hd3MuY29tL2Jhc2UtYWRtaW4yL2NvdW50eWJ1aWxkZXJzaW5jLmNvbS84MDI0NzU3Njc2NzU3ODdfZHNjXzAzMjguanBn/exact/600/400\n",
      "https://dlqxt4mfnxo6k.cloudfront.net/countybuildersinc.com/aHR0cHM6Ly9zMy5hbWF6b25hd3MuY29tL2Jhc2UtYWRtaW4yL2NvdW50eWJ1aWxkZXJzaW5jLmNvbS81MDM1NDc5NTUzMDQzOF9kc2NfMDMwMy5qcGc=/exact/600/400\n",
      "https://dlqxt4mfnxo6k.cloudfront.net/countybuildersinc.com/aHR0cHM6Ly9zMy5hbWF6b25hd3MuY29tL2Jhc2UtYWRtaW4yL2NvdW50eWJ1aWxkZXJzaW5jLmNvbS85MTA3OTU0NDY5NTA5NDJfZHNjXzAzMjIuanBn/exact/600/400\n",
      "https://dlqxt4mfnxo6k.cloudfront.net/countybuildersinc.com/aHR0cHM6Ly9zMy5hbWF6b25hd3MuY29tL2Jhc2UtYWRtaW4yL2NvdW50eWJ1aWxkZXJzaW5jLmNvbS82NzM3NDIyODgyNTc5MjZfZHNjXzAzNTEuanBn/exact/600/400\n",
      "https://dlqxt4mfnxo6k.cloudfront.net/countybuildersinc.com/aHR0cHM6Ly9zMy5hbWF6b25hd3MuY29tL2Jhc2UtYWRtaW4yL2NvdW50eWJ1aWxkZXJzaW5jLmNvbS8zNzEyNDg2NDMzNzk2NThfZHNjXzAzNDAuanBn/exact/600/400\n",
      "https://dlqxt4mfnxo6k.cloudfront.net/countybuildersinc.com/aHR0cHM6Ly9zMy5hbWF6b25hd3MuY29tL2Jhc2UtYWRtaW4yL2NvdW50eWJ1aWxkZXJzaW5jLmNvbS85NDIzNTYzMjk4NzY5MjlfZHNjXzAzNzMuanBn/exact/600/400\n",
      "https://dlqxt4mfnxo6k.cloudfront.net/countybuildersinc.com/aHR0cHM6Ly9zMy5hbWF6b25hd3MuY29tL2Jhc2UtYWRtaW4yL2NvdW50eWJ1aWxkZXJzaW5jLmNvbS8xOTM2NjEwNzY0ODIzODVfZHNjXzAzMDAuanBn/exact/600/400\n",
      "https://dlqxt4mfnxo6k.cloudfront.net/countybuildersinc.com/aHR0cHM6Ly9zMy5hbWF6b25hd3MuY29tL2Jhc2UtYWRtaW4yL2NvdW50eWJ1aWxkZXJzaW5jLmNvbS83MTcxODg5NzIwNDg0NjFfZHNjXzAzNjkuanBn/exact/600/400\n",
      "https://dlqxt4mfnxo6k.cloudfront.net/countybuildersinc.com/aHR0cHM6Ly9zMy5hbWF6b25hd3MuY29tL2Jhc2UtYWRtaW4yL2NvdW50eWJ1aWxkZXJzaW5jLmNvbS8zNDAzMjU4NTcwNDY5OTFfZHNjXzAzNjYuanBn/exact/600/400\n",
      "https://dlqxt4mfnxo6k.cloudfront.net/countybuildersinc.com/aHR0cHM6Ly9zMy5hbWF6b25hd3MuY29tL2Jhc2UtYWRtaW4yL2NvdW50eWJ1aWxkZXJzaW5jLmNvbS8yMDI4MDc4ODY1MjU5ODhfZHNjXzAzMTguanBn/exact/600/400\n",
      "https://dlqxt4mfnxo6k.cloudfront.net/countybuildersinc.com/aHR0cHM6Ly9zMy5hbWF6b25hd3MuY29tL2Jhc2UtYWRtaW4yL2NvdW50eWJ1aWxkZXJzaW5jLmNvbS81NzQzNDU2ODE4MTYzM19kc2NfMDMxMC5qcGc=/exact/600/400\n",
      "https://dlqxt4mfnxo6k.cloudfront.net/countybuildersinc.com/aHR0cHM6Ly9zMy5hbWF6b25hd3MuY29tL2Jhc2UtYWRtaW4yL2NvdW50eWJ1aWxkZXJzaW5jLmNvbS84MTAyNzEyOTA1OTY1NzRfZHNjXzAzNzUuanBn/exact/600/400\n",
      "19\n"
     ]
    }
   ],
   "source": [
    "image_links = print_links(find_image_links(r'html-files/531 W. Street Road - Gable _ County Builders Inc.html'))"
   ]
  },
  {
   "cell_type": "code",
   "execution_count": 4,
   "metadata": {},
   "outputs": [
    {
     "name": "stderr",
     "output_type": "stream",
     "text": [
      "WARNING\tProperty: Unknown Property name. [1:199: transition]\n"
     ]
    },
    {
     "name": "stdout",
     "output_type": "stream",
     "text": [
      "https://heartlandbuilders.com/wp-content/uploads/2021/02/Madison-TheRadIMG_1069-scaled.jpg\n",
      "https://heartlandbuilders.com/wp-content/uploads/2021/02/Madison-GrandReserveIMG_1062-Medium.jpg\n",
      "https://heartlandbuilders.com/wp-content/uploads/2021/02/Madison-DuneIMG_1014-Medium.jpg\n",
      "https://heartlandbuilders.com/wp-content/uploads/2021/02/Madison-GrandReserveIMG_1040-Medium.jpg\n",
      "https://heartlandbuilders.com/wp-content/uploads/2021/02/Madison-GrandReserveIMG_1050-Medium.jpg\n",
      "https://heartlandbuilders.com/wp-content/uploads/2021/02/Madison-TheRadIMG_1002-scaled.jpg\n",
      "/wp-content/uploads/2020/10/Group-166.png\n",
      "https://heartlandbuilders.com/wp-content/uploads/2021/02/Madison-GrandReserveIMG_1006-Medium.jpg\n",
      "https://heartlandbuilders.com/wp-content/uploads/2021/02/Madison-KodiakFront-Exterior-Grass-Medium-e1617825164907.jpg\n",
      "https://heartlandbuilders.com/wp-content/uploads/2021/02/Madison-TheRadIMG_1011-scaled.jpg\n",
      "https://heartlandbuilders.com/wp-content/uploads/2021/02/Madison-TheRadIMG_1001-scaled.jpg\n",
      "https://heartlandbuilders.com/wp-content/uploads/2021/02/Madison-GrandReserveIMG_1038-Medium.jpg\n",
      "/wp-content/uploads/2020/10/Group-165.png\n",
      "https://heartlandbuilders.com/wp-content/uploads/2021/02/Madison-MysticWoodsIMG_1002.jpg\n",
      "https://heartlandbuilders.com/wp-content/uploads/2021/02/Madison-GrandReserveIMG_1014-Medium.jpg\n",
      "https://heartlandbuilders.com/wp-content/uploads/2021/02/Madison-TheRadIMG_1009-scaled.jpg\n",
      "https://heartlandbuilders.com/wp-content/uploads/2021/02/Madison-TheRadIMG_1022-scaled.jpg\n",
      "https://heartlandbuilders.com/wp-content/uploads/2021/02/Madison-GrandReserveIMG_1008-Medium.jpg\n",
      "https://heartlandbuilders.com/wp-content/uploads/2021/02/WHERE_WE_BUILD_IMAGE-scaled.jpeg\n",
      "https://heartlandbuilders.com/wp-content/uploads/2021/02/Madison-KodiakIMG_1006-Medium.jpg\n",
      "https://heartlandbuilders.com/wp-content/uploads/2021/02/Madison-TheRadIMG_1043-scaled.jpg\n",
      "https://heartlandbuilders.com/wp-content/uploads/2021/02/Madison-TheRadIMG_1008-scaled.jpg\n",
      "https://heartlandbuilders.com/wp-content/uploads/2021/02/Madison-GrandReserveIMG_1060-Medium.jpg\n",
      "https://heartlandbuilders.com/wp-content/uploads/2021/02/Madison-MysticWoodsFront-Cropped.jpg\n",
      "https://heartlandbuilders.com/wp-content/uploads/2021/02/Madison-KodiakIMG_1011-Medium.jpg\n",
      "https://heartlandbuilders.com/wp-content/uploads/2021/02/Madison-GrandReserveIMG_1005-Medium.jpg\n",
      "https://heartlandbuilders.com/wp-content/uploads/2021/02/Madison-MysticWoodsIMG_1014.jpg\n",
      "https://heartlandbuilders.com/wp-content/uploads/2021/02/Madison-TheRadIMG_1044-scaled.jpg\n",
      "https://heartlandbuilders.com/wp-content/uploads/2021/02/Madison-DuneIMG_1055-Medium.jpg\n",
      "/wp-content/uploads/2020/10/Path-78.png\n",
      "https://heartlandbuilders.com/wp-content/uploads/2021/02/Madison-DuneIMG_1041-Medium.jpg\n",
      "https://heartlandbuilders.com/wp-content/uploads/2021/02/Madison-GrandReserveIMG_1004-Medium.jpg\n",
      "https://heartlandbuilders.com/wp-content/uploads/2021/02/Madison-TheRadIMG_1020-scaled.jpg\n",
      "https://heartlandbuilders.com/wp-content/uploads/2021/02/Madison-GrandReserveIMG_1001-Medium.jpg\n",
      "https://heartlandbuilders.com/wp-content/uploads/2021/02/Madison-TheRadIMG_1018-scaled.jpg\n",
      "https://heartlandbuilders.com/wp-content/uploads/2021/01/Madison-Base-Exterior-scaled.jpg\n",
      "https://heartlandbuilders.com/wp-content/uploads/2021/02/Madison-DuneIMG_1021-Medium.jpg\n",
      "https://heartlandbuilders.com/wp-content/uploads/2021/02/Madison-MysticWoodsIMG_1003.jpg\n",
      "https://heartlandbuilders.com/wp-content/uploads/2021/02/Madison-TheRadIMG_1054-scaled.jpg\n",
      "https://heartlandbuilders.com/wp-content/uploads/2021/02/Madison-KodiakIMG_1019-Medium.jpg\n",
      "https://heartlandbuilders.com/wp-content/uploads/2021/02/Madison-DuneIMG_1018-Medium.jpg\n",
      "https://heartlandbuilders.com/wp-content/uploads/2021/02/Madison-TheRadIMG_1006-scaled.jpg\n",
      "https://heartlandbuilders.com/wp-content/uploads/2021/02/Madison-GrandReserveIMG_1053-Medium.jpg\n",
      "https://heartlandbuilders.com/wp-content/uploads/2021/02/Madison-GrandReserveIMG_1003-Medium-1.jpg\n",
      "https://heartlandbuilders.com/wp-content/uploads/2021/02/Madison-MysticWoodsIMG_1021.jpg\n",
      "https://heartlandbuilders.com/wp-content/uploads/2021/02/Madison-GrandReserveIMG_1015-Medium.jpg\n",
      "https://heartlandbuilders.com/wp-content/uploads/2021/02/Madison-GrandReserveIMG_1016-Medium.jpg\n",
      "https://heartlandbuilders.com/wp-content/uploads/2021/02/COMPLETED_PROJECTS-scaled.jpeg\n",
      "https://heartlandbuilders.com/wp-content/uploads/2021/02/Madison-KodiakIMG_1020-Medium.jpg\n",
      "https://heartlandbuilders.com/wp-content/uploads/2021/02/Madison-TheRadIMG_1056-scaled.jpg\n",
      "https://heartlandbuilders.com/wp-content/uploads/2021/02/Madison-KodiakIMG_1021-Medium.jpg\n",
      "https://heartlandbuilders.com/wp-content/uploads/2021/02/Madison-KodiakIMG_1037-Medium.jpg\n",
      "https://heartlandbuilders.com/wp-content/uploads/2021/02/Madison-TheRadIMG_1007-scaled.jpg\n",
      "/wp-content/uploads/2020/10/Group-163.png\n",
      "https://heartlandbuilders.com/wp-content/uploads/2021/02/Madison-KodiakIMG_1017-Medium.jpg\n",
      "https://heartlandbuilders.com/wp-content/uploads/2021/02/Madison-KodiakIMG_1018-Medium.jpg\n",
      "https://heartlandbuilders.com/wp-content/uploads/2021/02/Madison-TheRadIMG_1019-scaled.jpg\n",
      "https://heartlandbuilders.com/wp-content/uploads/2021/02/Madison-MysticWoodsIMG_1033.jpg\n",
      "https://heartlandbuilders.com/wp-content/uploads/2021/02/Madison-GrandReserveIMG_1042-Medium.jpg\n",
      "https://heartlandbuilders.com/wp-content/uploads/2021/02/Madison-MysticWoodsIMG_1015.jpg\n",
      "60\n"
     ]
    }
   ],
   "source": [
    "image_links = print_links(find_image_links(r'html-files/Madison Floor Plan _ Heartland Builders.html'))"
   ]
  },
  {
   "cell_type": "code",
   "execution_count": null,
   "metadata": {},
   "outputs": [],
   "source": []
  }
 ],
 "metadata": {
  "interpreter": {
   "hash": "7cd0ce90709b35bdf8ed84045e142b0be4148f1956ceb3e45a03f72fb5910340"
  },
  "kernelspec": {
   "display_name": "Python 3.9.7 ('base')",
   "language": "python",
   "name": "python3"
  },
  "language_info": {
   "codemirror_mode": {
    "name": "ipython",
    "version": 3
   },
   "file_extension": ".py",
   "mimetype": "text/x-python",
   "name": "python",
   "nbconvert_exporter": "python",
   "pygments_lexer": "ipython3",
   "version": "3.9.7"
  },
  "orig_nbformat": 4
 },
 "nbformat": 4,
 "nbformat_minor": 2
}
