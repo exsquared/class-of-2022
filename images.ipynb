{
 "cells": [
  {
   "cell_type": "code",
   "execution_count": 1,
   "id": "3f3181ee",
   "metadata": {},
   "outputs": [],
   "source": [
    "from bs4 import BeautifulSoup\n",
    "import requests\n"
   ]
  },
  {
   "cell_type": "code",
   "execution_count": 2,
   "id": "0fade4c7",
   "metadata": {},
   "outputs": [],
   "source": [
    "url = 'https://severyn.co/home-plans/'"
   ]
  },
  {
   "cell_type": "code",
   "execution_count": 3,
   "id": "94637ba7",
   "metadata": {},
   "outputs": [
    {
     "name": "stdout",
     "output_type": "stream",
     "text": [
      "[<img class=\"h1 lazyload\" data-src=\"https://severyn.co/wp-content/uploads/2021/08/SD_Logo_BL-REVISED-8.23.png\" id=\"logo\" itemscope=\"\" itemtype=\"//schema.org/Organization\" src=\"data:image/gif;base64,R0lGODlhAQABAAAAACH5BAEKAAEALAAAAAABAAEAAAICTAEAOw==\"/>, <img class=\"h1\" id=\"logo\" itemscope=\"\" itemtype=\"//schema.org/Organization\" src=\"https://severyn.co/wp-content/uploads/2021/08/SD_Logo_BL-REVISED-8.23.png\"/>]\n",
      "https://severyn.co/wp-content/uploads/2021/08/SD_Logo_BL-REVISED-8.23.png\n"
     ]
    }
   ],
   "source": [
    "r = requests.get(url)\n",
    "soup = BeautifulSoup(r.text,\"html.parser\")\n",
    "links=[]\n",
    "predefined_keys = ['facebook','twitter','common','calendar','base64','email','fb','icon','logo']\n",
    "images = soup.find_all('img')\n",
    "print(images)\n",
    "for image in images:\n",
    "    if not any(key in image['src'] for key in predefined_keys) :\n",
    "        links.append(image['src'])\n",
    "        \n",
    "links = list(set(links))\n",
    "for l in links:\n",
    "    print(l)\n",
    "            \n",
    "    \n",
    "    \n"
   ]
  },
  {
   "cell_type": "code",
   "execution_count": null,
   "id": "f736d99b",
   "metadata": {},
   "outputs": [],
   "source": []
  }
 ],
 "metadata": {
  "kernelspec": {
   "display_name": "Python 3 (ipykernel)",
   "language": "python",
   "name": "python3"
  },
  "language_info": {
   "codemirror_mode": {
    "name": "ipython",
    "version": 3
   },
   "file_extension": ".py",
   "mimetype": "text/x-python",
   "name": "python",
   "nbconvert_exporter": "python",
   "pygments_lexer": "ipython3",
   "version": "3.9.7"
  }
 },
 "nbformat": 4,
 "nbformat_minor": 5
}
