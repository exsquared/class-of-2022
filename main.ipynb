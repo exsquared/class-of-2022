{
 "cells": [
  {
   "cell_type": "code",
   "execution_count": 103,
   "metadata": {},
   "outputs": [],
   "source": [
    "#Basically I have to extract the right bedroom word....\n",
    "from bs4 import BeautifulSoup"
   ]
  },
  {
   "cell_type": "code",
   "execution_count": 111,
   "metadata": {},
   "outputs": [],
   "source": [
    "# filePath = r\"D:\\propertyimages\\webImages\\531 W. Street Road - Gable _ County Builders Inc.html\"\n",
    "# filePath = r\"D:\\propertyimages\\webImages\\1130 - Quality Design Homes.html\"\n",
    "filePath = r\"D:\\propertyimages\\webImages\\1272 Bentley Rd. [Contract Pending] - Gateway Construction.html\"\n",
    "# filePath = r\"D:\\propertyimages\\webImages\\1382 Ashwood Lane, Victor, NY 14564 (MLS # R1389827) _ Morrell Builders.html\"\n",
    "# filePath = r\"D:\\propertyimages\\webImages\\1704 N. Harrison Street.html\"\n",
    "# filePath = r\"D:\\propertyimages\\webImages\\3308 Club Court _ New Homes in Naperville IL _ Eastman Properties.html\"\n",
    "# filePath = r\"D:\\propertyimages\\webImages\\7138 Cassidy Court #Lot 219, Victor, NY 14564 (MLS # R1389188) _ Morrell Builders.html\"\n",
    "# filePath = r\"D:\\propertyimages\\webImages\\Atlantic - Schmidt Homes, LLC.html\"\n",
    "# filePath = r\"D:\\propertyimages\\webImages\\CAREFREE LIVING IN THE ENCLAVE AT AUGUSTA GREEN - Spencer Homes, LLC.html\"\n",
    "# filePath = r\"D:\\propertyimages\\webImages\\Chelsea Park.html\"\n",
    "# filePath = r\"D:\\propertyimages\\webImages\\Francis ADU 896 _ Skagit Design Homes.html\"\n",
    "# filePath = r\"D:\\propertyimages\\webImages\\Home _ Pate Jones Construction.html\"\n",
    "# filePath = r\"D:\\propertyimages\\webImages\\Home Plans - Severyn Development.html\"\n",
    "# filePath = r\"D:\\propertyimages\\webImages\\House Plan 1430 - Gough Homes.html\"\n",
    "# filePath = r\"D:\\propertyimages\\webImages\\Huntington - Newport Homes.html\"\n",
    "# filePath = r\"D:\\propertyimages\\webImages\\Lake Winnebago _ Pfeifer Homes Inc. _ Lee's Summit Kansas City.html\"\n",
    "# filePath = r\"D:\\propertyimages\\webImages\\McCabe Floor Plan _ Heartland Builders.html\"\n",
    "# filePath = r\"D:\\propertyimages\\webImages\\Riviera _ Pfeifer Homes Inc. _ Lee's Summit kansas City.html\"\n",
    "# filePath = r\"D:\\propertyimages\\webImages\\Saddle Ridge - Gateway Construction.html\"\n",
    "# filePath = r\"D:\\propertyimages\\webImages\\THE DAWSON - Colorado Springs Custom Homes by Jayden Homes.html\"\n",
    "# filePath = r\"D:\\propertyimages\\webImages\\The Westbrook _ Inspired Homes.html\"\n",
    "# filePath = r\"\""
   ]
  },
  {
   "cell_type": "code",
   "execution_count": 112,
   "metadata": {},
   "outputs": [],
   "source": [
    "#parsed response is stored in the soup object...\n",
    "soup = ''\n",
    "with open(filePath, encoding='utf-8') as file:\n",
    "    soup = BeautifulSoup(file, 'html.parser')"
   ]
  },
  {
   "cell_type": "code",
   "execution_count": 113,
   "metadata": {},
   "outputs": [],
   "source": [
    "all_tags = soup.body.find_all()\n",
    "\n",
    "req_tags = []\n",
    "\n",
    "ignored_tags = ['script', 'style', 'wix-image']\n",
    "\n",
    "main_tags = []\n",
    "\n",
    "#req_tags will contain the tags except the above mentioned tags...\n",
    "for tag in all_tags:\n",
    "    if(tag.name not in ignored_tags):\n",
    "        req_tags.append(tag)\n",
    "\n",
    "#main_tags will only contain the tags which contain the tags only having 1 descendant....\n",
    "for tag in req_tags:\n",
    "    if(len(list(tag.descendants)) == 1):\n",
    "        main_tags.append(tag)\n",
    "\n",
    "keyword_tags = []\n",
    "\n",
    "#The below code append keywords if any in the webpage..\n",
    "for tag in main_tags:\n",
    "    content = tag.text.strip()\n",
    "    if(content):\n",
    "        content = content.lower()\n",
    "        if('bed' in content):\n",
    "            keyword_tags.append(tag)\n",
    "\n",
    "if(len(keyword_tags) == 0):\n",
    "    for tag in main_tags:\n",
    "        content = tag.text.strip()\n",
    "        if(content):\n",
    "            content = content.lower()\n",
    "            if('bath' in content):\n",
    "                keyword_tags.append(tag)\n",
    "\n",
    "                "
   ]
  },
  {
   "cell_type": "code",
   "execution_count": 114,
   "metadata": {},
   "outputs": [],
   "source": [
    "def check_keyword(tag):\n",
    "    content = tag.text.strip()\n",
    "    #Checking if the number is present in the string....\n",
    "    for number in numbers:\n",
    "        if(number in content):\n",
    "            return 1\n",
    "    #Checking if the number string is presrent as next sibling..\n",
    "    if(tag.next_sibling):\n",
    "        if(isinstance(tag.next_sibling, str)):\n",
    "            for number in numbers:\n",
    "                if(number in tag.next_sibling):\n",
    "                    return 1\n",
    "    #Checking if the number string is present as previous sibling...\n",
    "    if(tag.previous_sibling):\n",
    "        if(isinstance(tag.next_sibling, str)):\n",
    "            for number in numbers:\n",
    "                if(number in tag.next_sibling):\n",
    "                    return 1\n",
    "    #Checking if the number is present in the next sibling tag...\n",
    "    if(tag.findNext()):\n",
    "        if(isinstance(tag.findNext(), str)):\n",
    "            for number in numbers:\n",
    "                if(number in tag.findNext()):\n",
    "                    return 1\n",
    "        tempContent = tag.findNext().text.strip()\n",
    "        if(tempContent):\n",
    "            for number in numbers:\n",
    "                if(number in tempContent):\n",
    "                    return 1\n",
    "    #Checking if the number is present in the previous tag...\n",
    "    if(tag.findPrevious()):\n",
    "        if(isinstance(tag.findPrevious(), str)):\n",
    "            for number in numbers:\n",
    "                if(number in tag.findPrevious()):\n",
    "                    return 1\n",
    "        tempContent = tag.findPrevious().text.strip()\n",
    "        if(tempContent):\n",
    "            for number in numbers:\n",
    "                if(number in tempContent):\n",
    "                    return 1\n",
    "    return 0\n"
   ]
  },
  {
   "cell_type": "markdown",
   "metadata": {},
   "source": []
  },
  {
   "cell_type": "code",
   "execution_count": 115,
   "metadata": {},
   "outputs": [],
   "source": [
    "src_list = []\n",
    "\n",
    "numbers = ['1', '2', '3', '4', '5', '6', '7', '8', '9', '10']\n",
    "ignored_words = ['icon', 'facebook', 'twitter', 'instagram', 'logo', 'map', 'pdf']\n",
    "\n",
    "#Finding the proper anchor point or proper keyword....\n",
    "for tag in keyword_tags:\n",
    "    flag = check_keyword(tag)    \n",
    "    if(flag):\n",
    "        # print(flag)\n",
    "        img_list = []\n",
    "        parent = ''\n",
    "        store = tag\n",
    "        #This loop will keep on executing when the length of images list is empty and there is some tag...\n",
    "        while(len(img_list) == 0 and store):\n",
    "            x = store.previous_sibling\n",
    "            #While there is a sibling, then we shall keep searching the image...\n",
    "            while(x):\n",
    "                if(isinstance(x, str) == False):\n",
    "                    images = x.find_all('img')\n",
    "                    if(len(images) != 0):\n",
    "                        for img in images:\n",
    "                            marker = 0\n",
    "                            for itr in ignored_words:\n",
    "                                if (itr in img.get('src').lower()):\n",
    "                                    marker = 1\n",
    "                                    break\n",
    "                            if(marker == 0):\n",
    "                                img_list.append(img)\n",
    "                                    \n",
    "                x = x.previous_sibling\n",
    "\n",
    "            #We shall find the images in the parent tag..\n",
    "            images = store.find_all('img')\n",
    "            if(len(images) != 0):\n",
    "                for img in images:\n",
    "                    marker = 0\n",
    "                    for itr in ignored_words:\n",
    "                        if(itr in img.get('src').lower()):\n",
    "                            marker = 1\n",
    "                            break\n",
    "                    if(marker == 0):\n",
    "                        img_list.append(img)\n",
    "\n",
    "            store = store.parent\n",
    "\n",
    "        #Appending the src into the source list....\n",
    "        if(len(img_list) != 0):\n",
    "            for x in img_list:\n",
    "                src_list.append(x.get('src'))\n",
    "        # break\n"
   ]
  },
  {
   "cell_type": "code",
   "execution_count": 116,
   "metadata": {},
   "outputs": [
    {
     "data": {
      "text/plain": [
       "6"
      ]
     },
     "execution_count": 116,
     "metadata": {},
     "output_type": "execute_result"
    }
   ],
   "source": [
    "src_list = list(set(src_list))\n",
    "len(src_list)"
   ]
  },
  {
   "cell_type": "code",
   "execution_count": 117,
   "metadata": {},
   "outputs": [
    {
     "name": "stdout",
     "output_type": "stream",
     "text": [
      "https://gateway-const.com/wp-content/uploads/2021/11/2121-TBD-Tract-251-FPM-200x300.jpg\n",
      "https://gateway-const.com/wp-content/uploads/2021/11/2121-TBD-Tract-251-3D-Marketing-1500x431.jpg\n",
      "https://gateway-const.com/wp-content/uploads/2021/11/2121-TBD-Tract-251-FEM-1500x659.jpg\n",
      "https://gateway-const.com/wp-content/uploads/2021/11/2121-TBD-Tract-251-FPM-1391x1500.jpg\n",
      "https://gateway-const.com/wp-content/uploads/2021/11/2121-TBD-Tract-251-3D-Marketing-200x300.jpg\n",
      "https://gateway-const.com/wp-content/uploads/2021/11/2121-TBD-Tract-251-FEM-200x300.jpg\n"
     ]
    }
   ],
   "source": [
    "for source in src_list:\n",
    "    print(source)"
   ]
  },
  {
   "cell_type": "code",
   "execution_count": null,
   "metadata": {},
   "outputs": [],
   "source": []
  }
 ],
 "metadata": {
  "interpreter": {
   "hash": "4572f8113801e98d4b730113c3b6d0ebe205d8647398df7edf0855dd0c54f151"
  },
  "kernelspec": {
   "display_name": "Python 3.9.7 ('base')",
   "language": "python",
   "name": "python3"
  },
  "language_info": {
   "codemirror_mode": {
    "name": "ipython",
    "version": 3
   },
   "file_extension": ".py",
   "mimetype": "text/x-python",
   "name": "python",
   "nbconvert_exporter": "python",
   "pygments_lexer": "ipython3",
   "version": "3.9.7"
  },
  "orig_nbformat": 4
 },
 "nbformat": 4,
 "nbformat_minor": 2
}
