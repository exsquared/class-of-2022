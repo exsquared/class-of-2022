{
 "cells": [
  {
   "cell_type": "code",
   "execution_count": 1,
   "metadata": {},
   "outputs": [],
   "source": [
    "from bs4 import BeautifulSoup\n",
    "import re"
   ]
  },
  {
   "cell_type": "code",
   "execution_count": 221,
   "metadata": {},
   "outputs": [],
   "source": [
    "def file_calling(address):\n",
    "    with open(address) as file:\n",
    "        soup = BeautifulSoup(file, 'html.parser')\n",
    "        return soup.prettify()"
   ]
  },
  {
   "cell_type": "code",
   "execution_count": 222,
   "metadata": {},
   "outputs": [],
   "source": [
    "def find_URLs(string):\n",
    "    regex = \"(https?:\\/\\/(?:www\\.|(?!www))[a-zA-Z0-9][a-zA-Z0-9-]+[a-zA-Z0-9]\\.[^\\s]{2,}|www\\.[a-zA-Z0-9][a-zA-Z0-9-]+[a-zA-Z0-9]\\.[^\\s]{2,}|https?:\\/\\/(?:www\\.|(?!www))[a-zA-Z0-9]+\\.[^\\s]{2,}|www\\.[a-zA-Z0-9]+\\.[^\\s]{2,})\"\n",
    "    unique_links = list(set(re.findall(regex, string)))\n",
    "    return unique_links"
   ]
  },
  {
   "cell_type": "code",
   "execution_count": 223,
   "metadata": {},
   "outputs": [],
   "source": [
    "def map_urls(all_URLs):\n",
    "    gen_Urls = ['google.com/maps', 'maps.google.com', 'map.google.com']\n",
    "    map_Urls = []\n",
    "    for url in all_URLs:\n",
    "        for gen_Url in gen_Urls:\n",
    "            if gen_Url in url and 'https://www.google.com/maps/vt' not in url:\n",
    "                if(url[-2:] == ',=' or url[-2:] == \"='\" or url[-1:] == \"=\"):\n",
    "                    map_Urls.append(url.replace('&amp;', '&')[:-2])\n",
    "                else:\n",
    "                    map_Urls.append(url.replace('&amp;', '&'))\n",
    "    return map_Urls\n"
   ]
  },
  {
   "cell_type": "code",
   "execution_count": 224,
   "metadata": {},
   "outputs": [],
   "source": [
    "def giveAddress(map_Urls):\n",
    "    for url in map_Urls :\n",
    "        if('ll' in url and '3D' in url):\n",
    "            temp = url.split('3D')[1]\n",
    "            temp_one = temp.split(',')\n",
    "            if(len(temp_one) == 2):\n",
    "                print(temp_one[0] + \" \" +temp_one[1])\n",
    "            else:\n",
    "                print(temp)\n",
    "            break\n",
    "        elif '@' in url :\n",
    "            temp = url.split('@')[1].split(',')\n",
    "            print(temp[0] +\" \"+temp[1])\n",
    "            break\n",
    "        elif ('embed' in url) and ('q' in url) :\n",
    "            temp = url.split('q=')[1].split('&')[0].replace('%20',' ').replace('+', ' ').replace('%2C', ',').replace('%7C', '|')\n",
    "            print(temp)\n",
    "            break\n",
    "        elif ('embed' in url) and ('pb=!' in url):\n",
    "            temp = url.split('!2d')[1].split('!3d')\n",
    "            longitude = temp[0]\n",
    "            latitude = temp[1].split('!')[0]\n",
    "            print(longitude +\" \" +latitude)\n",
    "        else:\n",
    "            temp = url.split('/')\n",
    "            for term in temp:\n",
    "                if(',' in term):\n",
    "                    final_temp = term.replace('%20', ' ').split(' ')\n",
    "                    print(final_temp[0]+\" \"+final_temp[1])\n",
    "                    break\n",
    "            break\n",
    "\n",
    "\n"
   ]
  },
  {
   "cell_type": "code",
   "execution_count": 225,
   "metadata": {},
   "outputs": [
    {
     "name": "stdout",
     "output_type": "stream",
     "text": [
      "17480 Dallas Parkway Suite 217 Dallas, TX 75287\n"
     ]
    }
   ],
   "source": [
    "def retreiveAddress(address):\n",
    "    fileAsString = file_calling(address)\n",
    "    all_urls = find_URLs(fileAsString)\n",
    "    map_links = map_urls(all_urls)\n",
    "    giveAddress(map_links)\n",
    "\n",
    "address = 'D:\\\\MapLocation\\\\webpages\\\\Contact Greg Alford of Alford Homes Dallas.mhtml'\n",
    "# address = 'D:\\\\MapLocation\\\\webpages\\\\Contact 1ST Choice Realty, Willard Missouri.mhtml'\n",
    "# address = 'D:\\\\MapLocation\\\\webpages\\\\Contact Us _ NJ Home Builder.mhtml'\n",
    "# address = 'D:\\\\MapLocation\\\\webpages\\\\Contact Us - Affordable Homes Super Center.mhtml'\n",
    "# address = 'D:\\\\MapLocation\\\\webpages\\\\Contact Us - Equipped to help with your new home - New Energy Homes.mhtml'\n",
    "# address = 'D:\\\\MapLocation\\\\webpages\\\\Contact Us - Metro Home Builders, Inc.mhtml'\n",
    "# address = 'D:\\\\MapLocation\\\\webpages\\\\Downing Farm - Peebles Homes _ New Homes in Dayton.mhtml'\n",
    "# address = 'D:\\\\MapLocation\\\\webpages\\\\Ranch Country Homes - Welcome!.mhtml'\n",
    "\n",
    "retreiveAddress(address)\n",
    "    \n",
    "    "
   ]
  }
 ],
 "metadata": {
  "interpreter": {
   "hash": "37477840f45969b7b5f4d7fcc59e760df52d89883dabd7520f7eecb3c71b6c20"
  },
  "kernelspec": {
   "display_name": "Python 3.10.2 64-bit",
   "language": "python",
   "name": "python3"
  },
  "language_info": {
   "codemirror_mode": {
    "name": "ipython",
    "version": 3
   },
   "file_extension": ".py",
   "mimetype": "text/x-python",
   "name": "python",
   "nbconvert_exporter": "python",
   "pygments_lexer": "ipython3",
   "version": "3.10.2"
  },
  "orig_nbformat": 4
 },
 "nbformat": 4,
 "nbformat_minor": 2
}
