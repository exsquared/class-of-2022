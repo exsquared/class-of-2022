{
 "cells": [
  {
   "cell_type": "code",
   "execution_count": 1,
   "id": "8591e47e",
   "metadata": {},
   "outputs": [],
   "source": [
    "from bs4 import BeautifulSoup\n",
    "import requests\n"
   ]
  },
  {
   "cell_type": "code",
   "execution_count": 2,
   "id": "e2ef82d1",
   "metadata": {},
   "outputs": [],
   "source": [
    "url = 'https://newporthomesaz.com/floor-plans/huntington/'"
   ]
  },
  {
   "cell_type": "code",
   "execution_count": 3,
   "id": "491b51ff",
   "metadata": {},
   "outputs": [
    {
     "name": "stdout",
     "output_type": "stream",
     "text": [
      "https://newporthomesaz.com/wp-content/uploads/2019/06/3501_C-1200x800-1024x800.jpg\n",
      "https://newporthomesaz.com/wp-content/uploads/2019/06/DenverNew.png\n",
      "https://newporthomesaz.com/wp-content/uploads/2019/06/Huntington-PecanCove-Floorplan.jpg\n",
      "https://newporthomesaz.com/wp-content/uploads/2019/08/Huntington5.jpg\n",
      "https://newporthomesaz.com/wp-content/uploads/2019/04/circle.png\n",
      "https://newporthomesaz.com/wp-content/uploads/2019/08/Huntington1.jpg\n",
      "https://newporthomesaz.com/wp-content/uploads/2019/06/Gray-Equal.png\n",
      "https://newporthomesaz.com/wp-content/uploads/2019/08/Huntington3.jpg\n",
      "https://newporthomesaz.com/wp-content/uploads/2019/08/Huntington4.jpg\n",
      "https://newporthomesaz.com/wp-content/uploads/2019/06/GrayRealtor.png\n"
     ]
    }
   ],
   "source": [
    "r = requests.get(url)\n",
    "soup = BeautifulSoup(r.text,\"html.parser\")\n",
    "links=[]\n",
    "all_divs = soup.find_all('div')\n",
    "predefined_keys = ['facebook','twitter','common','calendar','base64','email','fb','icon','logo']\n",
    "\n",
    "\n",
    "#print(all_divs[1].find_all('img'))\n",
    "#print(all_divs)\n",
    "#for div in all_divs:\n",
    "    #print(div,'\\n')\n",
    "    #images = div.find_all('img')\n",
    "    #print(images,'\\n')\n",
    "useful_div_length=0;\n",
    "\n",
    "\n",
    "for div in all_divs:\n",
    "    images = div.find_all('img')\n",
    "    #print(len(images),'\\n') \n",
    "    length_of_images_under_div = len(images)\n",
    "    if(useful_div_length<length_of_images_under_div):\n",
    "        useful_div_length=length_of_images_under_div\n",
    "        useful_divs = div\n",
    "image_set = useful_divs.find_all('img')\n",
    "#print(image_set,'\\n',useful_div_length,'\\n',useful_divs)\n",
    "        \n",
    "        \n",
    "for image in image_set:\n",
    "    #if not any(key in useful_div \n",
    "    if not any(key in image['src'] for key in predefined_keys) :\n",
    "        links.append(image['src'])\n",
    "        \n",
    "links = list(set(links))\n",
    "for l in links:\n",
    "    print(l)        \n",
    "    \n",
    "        \n",
    "    \n"
   ]
  },
  {
   "cell_type": "code",
   "execution_count": null,
   "id": "b1bc29b7",
   "metadata": {},
   "outputs": [],
   "source": []
  },
  {
   "cell_type": "code",
   "execution_count": null,
   "id": "8111256f",
   "metadata": {},
   "outputs": [],
   "source": []
  }
 ],
 "metadata": {
  "kernelspec": {
   "display_name": "Python 3 (ipykernel)",
   "language": "python",
   "name": "python3"
  },
  "language_info": {
   "codemirror_mode": {
    "name": "ipython",
    "version": 3
   },
   "file_extension": ".py",
   "mimetype": "text/x-python",
   "name": "python",
   "nbconvert_exporter": "python",
   "pygments_lexer": "ipython3",
   "version": "3.9.7"
  }
 },
 "nbformat": 4,
 "nbformat_minor": 5
}
