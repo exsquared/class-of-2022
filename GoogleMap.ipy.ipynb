{
 "cells": [
  {
   "cell_type": "code",
   "execution_count": 51,
   "id": "8c4494d4",
   "metadata": {},
   "outputs": [],
   "source": [
    "from selenium import webdriver\n",
    "from selenium.webdriver.chrome.options import Options\n",
    "import re\n",
    "\n",
    "options = Options()\n",
    "options.headless = True\n",
    "\n",
    "browser = webdriver.Chrome(options=options)"
   ]
  },
  {
   "cell_type": "code",
   "execution_count": 52,
   "id": "037fdccc",
   "metadata": {},
   "outputs": [],
   "source": [
    "\n",
    "\n",
    "\n",
    "def find_map_links(filename):\n",
    "    browser.get(filename)\n",
    "    elem = browser.find_element_by_xpath(\"//*\")\n",
    "    source = elem.get_attribute('outerHTML')\n",
    "    \n",
    "    source = process_data(source)\n",
    "    \n",
    "    all_links = find_all_links(source)\n",
    "\n",
    "    \n",
    "    predefined_links = ['google.com/maps', 'maps.google.com', 'map.google.com']\n",
    "    \n",
    "    map_links = []\n",
    "    \n",
    "    for link in all_links:\n",
    "        if any(defined_links in link for defined_links in predefined_links) and 'https://www.google.com/maps/vt' not in link:\n",
    "            if(link[-2:] == ',=' or link[-2:] == \"='\"):\n",
    "                map_links.append(link.replace('&amp;', '&')[:-2])\n",
    "            else:\n",
    "                map_links.append(link.replace('&amp;', '&'))\n",
    "    return check_links(map_links)\n",
    "    #return map_links"
   ]
  },
  {
   "cell_type": "code",
   "execution_count": 53,
   "id": "447faa4f",
   "metadata": {},
   "outputs": [],
   "source": [
    "def check_links(urls):\n",
    "    for url in urls:\n",
    "        if (('embed' in url) and (('q=' in url) or ('pb=!' in url))):\n",
    "            if 'q=' in url:\n",
    "                return url.split('q=')[1].split('&')[0].replace('%20',' ').replace('+', ' ').replace('%2C', ',')\n",
    "                \n",
    "            elif 'pb=!' in url:\n",
    "                temp = url.split('!2d')[1].split('!3d')\n",
    "                longitude = temp[0]\n",
    "                latitude = temp[1].split('!')[0]\n",
    "    \n",
    "                return latitude, longitude\n",
    "                \n",
    "        \n",
    "        elif 'https://maps.google.com/maps?ll=3D' in url:\n",
    "            try:\n",
    "                if len(url.split(\"https://maps.google.com/maps?ll=3D\")[1].split(',')) == 2:\n",
    "                    \n",
    "                    temp = url.split('?ll')[1].split(',')\n",
    "                    latitude = temp[0][3:]\n",
    "                    longitude = temp[1].split('&')[0]\n",
    "    \n",
    "                    return latitude, longitude\n",
    "                continue\n",
    "            except:\n",
    "                continue\n",
    "        \n",
    "        elif 'google.com/maps/@' in url:\n",
    "            try:\n",
    "                url = url.split('@')[1]\n",
    "                temp = url.split(',')\n",
    "                latitude = temp[0]\n",
    "                longitude = temp[1]\n",
    "\n",
    "                return latitude, longitude\n",
    "            except:\n",
    "                continue\n",
    "                \n",
    "        elif 'current+location/' in url:\n",
    "            try:\n",
    "                url = url.split('current+location/')[1]\n",
    "                temp = url.split(',')\n",
    "                latitude = find_integer(temp[0])\n",
    "                longitude = find_integer(temp[1])\n",
    "\n",
    "                return latitude, longitude\n",
    "            except:\n",
    "                continue\n",
    "        \n",
    "        continue\n",
    "            \n",
    "   \n",
    "            \n",
    "                \n",
    "    return 0"
   ]
  },
  {
   "cell_type": "code",
   "execution_count": 54,
   "id": "61c8e1ba",
   "metadata": {},
   "outputs": [],
   "source": [
    "def return_long_lat(url):\n",
    "    if url.split('?ll')[1] == '':\n",
    "        return 0\n",
    "    elif len(url.split('?ll')[1].split(',')) == 1:\n",
    "        return 0\n",
    "    else:\n",
    "        temp = url.split('?ll')[1].split(',')\n",
    "        latitude = temp[0][3:]\n",
    "        longitude = temp[1]\n",
    "    \n",
    "    return latitude, longitude"
   ]
  },
  {
   "cell_type": "code",
   "execution_count": 55,
   "id": "8b7f1b1d",
   "metadata": {},
   "outputs": [],
   "source": [
    "def find_all_links(file):\n",
    "    links = list(set(re.findall(\"(https?:\\/\\/(?:www\\.|(?!www))[a-zA-Z0-9][a-zA-Z0-9-]+[a-zA-Z0-9]\\.[^\\s]{2,}|www\\.[a-zA-Z0-9][a-zA-Z0-9-]+[a-zA-Z0-9]\\.[^\\s]{2,}|https?:\\/\\/(?:www\\.|(?!www))[a-zA-Z0-9]+\\.[^\\s]{2,}|www\\.[a-zA-Z0-9]+\\.[^\\s]{2,})\", file)))\n",
    "    return links"
   ]
  },
  {
   "cell_type": "code",
   "execution_count": 56,
   "id": "1eac5717",
   "metadata": {},
   "outputs": [],
   "source": [
    "def process_data(text):\n",
    "    text = text.replace('&amp;', '&')\n",
    "    text = text.replace('\\n', ' ')\n",
    "    text = text.replace('\\t', ' ')\n",
    "    text = text.replace('&quot;', '\"')\n",
    "    text = text.replace('\",', ' ')\n",
    "    text = text.replace('\")', \" \")\n",
    "    text = text.replace('\">', \" \")\n",
    "    text = text.replace('\" ', \" \")\n",
    "    text = text.replace('\"]', \" \")\n",
    "    text = text.replace('\"}', \" \")\n",
    "    text = text.replace('\\\\', '')\n",
    "    \n",
    "    return text"
   ]
  },
  {
   "cell_type": "code",
   "execution_count": 57,
   "id": "3239ca5a",
   "metadata": {},
   "outputs": [
    {
     "name": "stdout",
     "output_type": "stream",
     "text": [
      "('39.58896736670392', '-84.17152495088204')\n"
     ]
    }
   ],
   "source": [
    "test = find_map_links('https://www.peebleshomes.com/neighborhood/downing-farm/')\n",
    "print(test) "
   ]
  },
  {
   "cell_type": "code",
   "execution_count": 58,
   "id": "2b583306",
   "metadata": {},
   "outputs": [
    {
     "name": "stdout",
     "output_type": "stream",
     "text": [
      "107 Weber Blvd N, Naples, FL 34120\n"
     ]
    }
   ],
   "source": [
    "test = find_map_links('https://metrohomebuilders.com/contact-us/')\n",
    "print(test)"
   ]
  },
  {
   "cell_type": "code",
   "execution_count": 59,
   "id": "1f30a0ea",
   "metadata": {},
   "outputs": [
    {
     "name": "stdout",
     "output_type": "stream",
     "text": [
      "('37.3031304', '-93.4374225')\n"
     ]
    }
   ],
   "source": [
    "test = find_map_links('https://1stchoice-realty.com/contact/')\n",
    "print(test)"
   ]
  },
  {
   "cell_type": "code",
   "execution_count": 63,
   "id": "625b3077",
   "metadata": {},
   "outputs": [
    {
     "name": "stdout",
     "output_type": "stream",
     "text": [
      "('35.9407095', '-90.5795876')\n"
     ]
    }
   ],
   "source": [
    "test = find_map_links('https://www.affordablehomessupercenter.com/contact-us/')\n",
    "print(test)"
   ]
  },
  {
   "cell_type": "code",
   "execution_count": 61,
   "id": "b1c308a5",
   "metadata": {},
   "outputs": [
    {
     "name": "stdout",
     "output_type": "stream",
     "text": [
      "17480 Dallas Parkway Suite 217 Dallas, TX 75287\n"
     ]
    }
   ],
   "source": [
    "test = find_map_links('https://alfordhomes.com/contact.html')\n",
    "print(test)"
   ]
  },
  {
   "cell_type": "code",
   "execution_count": 62,
   "id": "cd180214",
   "metadata": {},
   "outputs": [
    {
     "name": "stdout",
     "output_type": "stream",
     "text": [
      "('40.18830547939236', '-74.12101638461101')\n"
     ]
    }
   ],
   "source": [
    "test = find_map_links('https://njhomebuilder.com/contact-us/')\n",
    "print(test)"
   ]
  },
  {
   "cell_type": "code",
   "execution_count": null,
   "id": "00ccb53c",
   "metadata": {},
   "outputs": [],
   "source": [
    "!git\n"
   ]
  },
  {
   "cell_type": "code",
   "execution_count": null,
   "id": "72798a6d",
   "metadata": {},
   "outputs": [],
   "source": []
  },
  {
   "cell_type": "code",
   "execution_count": null,
   "id": "bb1bb131",
   "metadata": {},
   "outputs": [],
   "source": []
  }
 ],
 "metadata": {
  "kernelspec": {
   "display_name": "Python 3 (ipykernel)",
   "language": "python",
   "name": "python3"
  },
  "language_info": {
   "codemirror_mode": {
    "name": "ipython",
    "version": 3
   },
   "file_extension": ".py",
   "mimetype": "text/x-python",
   "name": "python",
   "nbconvert_exporter": "python",
   "pygments_lexer": "ipython3",
   "version": "3.9.7"
  }
 },
 "nbformat": 4,
 "nbformat_minor": 5
}
