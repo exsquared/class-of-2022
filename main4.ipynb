{
 "cells": [
  {
   "cell_type": "code",
   "execution_count": 6,
   "metadata": {},
   "outputs": [],
   "source": [
    "#Basically I have to extract the right bedroom word....\n",
    "from bs4 import BeautifulSoup"
   ]
  },
  {
   "cell_type": "code",
   "execution_count": 7,
   "metadata": {},
   "outputs": [],
   "source": [
    "filePath = r\"D:\\propertyimages\\webImages\\531 W. Street Road - Gable _ County Builders Inc.html\"\n",
    "# filePath = r\"D:\\propertyimages\\webImages\\1130 - Quality Design Homes.html\"\n",
    "# filePath = r\"D:\\propertyimages\\webImages\\1272 Bentley Rd. [Contract Pending] - Gateway Construction.html\"\n",
    "# filePath = r\"D:\\propertyimages\\webImages\\1382 Ashwood Lane, Victor, NY 14564 (MLS # R1389827) _ Morrell Builders.html\"\n",
    "# filePath = r\"D:\\propertyimages\\webImages\\1704 N. Harrison Street.html\"\n",
    "# filePath = r\"D:\\propertyimages\\webImages\\3308 Club Court _ New Homes in Naperville IL _ Eastman Properties.html\"\n",
    "# filePath = r\"D:\\propertyimages\\webImages\\7138 Cassidy Court #Lot 219, Victor, NY 14564 (MLS # R1389188) _ Morrell Builders.html\"\n",
    "# filePath = r\"D:\\propertyimages\\webImages\\Atlantic - Schmidt Homes, LLC.html\"\n",
    "# filePath = r\"D:\\propertyimages\\webImages\\CAREFREE LIVING IN THE ENCLAVE AT AUGUSTA GREEN - Spencer Homes, LLC.html\"\n",
    "# filePath = r\"D:\\propertyimages\\webImages\\Chelsea Park.html\"\n",
    "# filePath = r\"D:\\propertyimages\\webImages\\Francis ADU 896 _ Skagit Design Homes.html\"\n",
    "# filePath = r\"D:\\propertyimages\\webImages\\Home _ Pate Jones Construction.html\"\n",
    "# filePath = r\"D:\\propertyimages\\webImages\\Home Plans - Severyn Development.html\"\n",
    "# filePath = r\"D:\\propertyimages\\webImages\\House Plan 1430 - Gough Homes.html\"\n",
    "# filePath = r\"D:\\propertyimages\\webImages\\Huntington - Newport Homes.html\"\n",
    "# filePath = r\"D:\\propertyimages\\webImages\\Lake Winnebago _ Pfeifer Homes Inc. _ Lee's Summit Kansas City.html\"\n",
    "# filePath = r\"D:\\propertyimages\\webImages\\McCabe Floor Plan _ Heartland Builders.html\"\n",
    "# filePath = r\"D:\\propertyimages\\webImages\\Riviera _ Pfeifer Homes Inc. _ Lee's Summit kansas City.html\"\n",
    "# filePath = r\"D:\\propertyimages\\webImages\\Saddle Ridge - Gateway Construction.html\"\n",
    "# filePath = r\"D:\\propertyimages\\webImages\\THE DAWSON - Colorado Springs Custom Homes by Jayden Homes.html\"\n",
    "# filePath = r\"D:\\propertyimages\\webImages\\The Westbrook _ Inspired Homes.html\"\n",
    "# filePath = r\"\""
   ]
  },
  {
   "cell_type": "code",
   "execution_count": 8,
   "metadata": {},
   "outputs": [],
   "source": [
    "soup = ''\n",
    "with open(filePath, encoding='utf-8') as file:\n",
    "    soup = BeautifulSoup(file, 'html.parser')"
   ]
  },
  {
   "cell_type": "code",
   "execution_count": 9,
   "metadata": {},
   "outputs": [
    {
     "name": "stdout",
     "output_type": "stream",
     "text": [
      "<p class=\"page-copy ng-binding ng-scope\" ng-bind-html=\"home.description\" ng-if=\"home.description\">Our Gable End Model features 9' ceilings on the first and second floors with an open and exciting floor plan.  42\" Kitchen cabinets with crown molding, granite countertops and built-in pantry featuring a classic sliding barn door.  Breakfast area leads out to a 10 x 10 Timbertech deck.  Spacious En Suite has tray ceiling with a Juliette balcony, luxury bath featuring a 5' shower and double bowl vanity with granite top.  Oversized 1-car garage with double parking pad. Finish Recreation room for entertaining.</p> \n",
      "\n"
     ]
    }
   ],
   "source": [
    "all_tags = soup.body.find_all()\n",
    "\n",
    "req_tags = []\n",
    "\n",
    "ignored_tags = ['script', 'style', 'wix-image']\n",
    "\n",
    "main_tags = []\n",
    "\n",
    "for tag in all_tags:\n",
    "    if(tag.name not in ignored_tags):\n",
    "        req_tags.append(tag)\n",
    "\n",
    "\n",
    "for tag in req_tags:\n",
    "    if(len(list(tag.descendants)) == 1):\n",
    "        main_tags.append(tag)\n",
    "\n",
    "keyword_tags = []\n",
    "\n",
    "for tag in main_tags:\n",
    "    content = tag.text.strip()\n",
    "    if(content):\n",
    "        content = content.lower()\n",
    "        if('bed' in content):\n",
    "            keyword_tags.append(tag)\n",
    "\n",
    "if(len(keyword_tags) == 0):\n",
    "    for tag in main_tags:\n",
    "        content = tag.text.strip()\n",
    "        if(content):\n",
    "            content = content.lower()\n",
    "            if('bath' in content):\n",
    "                keyword_tags.append(tag)\n",
    "\n",
    "for x in keyword_tags:\n",
    "    print(x, '\\n')\n"
   ]
  },
  {
   "cell_type": "markdown",
   "metadata": {},
   "source": []
  },
  {
   "cell_type": "code",
   "execution_count": 10,
   "metadata": {},
   "outputs": [
    {
     "name": "stdout",
     "output_type": "stream",
     "text": [
      "1\n"
     ]
    }
   ],
   "source": [
    "src_list = []\n",
    "\n",
    "numbers = ['1', '2', '3', '4', '5', '6', '7', '8', '9', '10']\n",
    "\n",
    "for tag in keyword_tags:\n",
    "    content = tag.text.strip()\n",
    "    flag = 0\n",
    "    for number in numbers:\n",
    "        if(number in content):\n",
    "            flag = 1\n",
    "            break\n",
    "    if(flag == 0 and tag.next_sibling):\n",
    "        if(isinstance(tag.next_sibling, str)):\n",
    "            for number in numbers:\n",
    "                if(number in tag.next_sibling):\n",
    "                    flag = 1\n",
    "                    break\n",
    "    if(flag == 0 and tag.previous_sibling):\n",
    "        if(isinstance(tag.next_sibling, str)):\n",
    "            for number in numbers:\n",
    "                if(number in tag.next_sibling):\n",
    "                    flag = 1\n",
    "                    break\n",
    "    if(flag == 0 and tag.findNext()):\n",
    "        if(isinstance(tag.findNext(), str)):\n",
    "            for number in numbers:\n",
    "                if(number in tag.findNext()):\n",
    "                    flag = 1\n",
    "                    break\n",
    "        else:\n",
    "            tempContent = tag.findNext().text.strip()\n",
    "            if(tempContent):\n",
    "                for number in numbers:\n",
    "                    if(number in tempContent):\n",
    "                        flag = 1\n",
    "                        break\n",
    "    if(flag == 0 and tag.findPrevious()):\n",
    "        if(isinstance(tag.findPrevious(), str)):\n",
    "            for number in numbers:\n",
    "                if(number in tag.findPrevious()):\n",
    "                    flag = 1\n",
    "                    break\n",
    "        else:\n",
    "            tempContent = tag.findPrevious().text.strip()\n",
    "            if(tempContent):\n",
    "                for number in numbers:\n",
    "                    if(number in tempContent):\n",
    "                        flag = 1\n",
    "                        break\n",
    "\n",
    "\n",
    "    ignored_words = ['icon', 'facebook', 'twitter', 'instagram', 'logo', 'map']\n",
    "    if(flag):\n",
    "        print(flag)\n",
    "        img_list = []\n",
    "        parent = ''\n",
    "        store = tag\n",
    "        while(len(img_list) == 0):\n",
    "            x = store.previous_sibling\n",
    "            while(x):\n",
    "                if(isinstance(x, str) == False):\n",
    "                    images = x.find_all('img')\n",
    "                    if(len(images) != 0):\n",
    "                        for img in images:\n",
    "                            marker = 0\n",
    "                            for itr in ignored_words:\n",
    "                                if (itr in img.get('src').lower()):\n",
    "                                    print('Hello')\n",
    "                                    marker = 1\n",
    "                                    break\n",
    "                            if(marker == 0):\n",
    "                                img_list.append(img)\n",
    "                                    \n",
    "                x = x.previous_sibling\n",
    "\n",
    "            store = store.parent\n",
    "            images = store.find_all('img')\n",
    "            if(len(images) != 0):\n",
    "                for img in images:\n",
    "                    img_list.append(img)\n",
    "        if(len(img_list) != 0):\n",
    "            for x in img_list:\n",
    "                src_list.append(x.get('src'))\n",
    "        break\n"
   ]
  },
  {
   "cell_type": "code",
   "execution_count": 11,
   "metadata": {},
   "outputs": [
    {
     "data": {
      "text/plain": [
       "36"
      ]
     },
     "execution_count": 11,
     "metadata": {},
     "output_type": "execute_result"
    }
   ],
   "source": [
    "src_list = list(set(src_list))\n",
    "len(src_list)"
   ]
  },
  {
   "cell_type": "code",
   "execution_count": 12,
   "metadata": {},
   "outputs": [
    {
     "name": "stdout",
     "output_type": "stream",
     "text": [
      "https://dlqxt4mfnxo6k.cloudfront.net/countybuildersinc.com/aHR0cHM6Ly9zMy5hbWF6b25hd3MuY29tL2Jhc2UtYWRtaW4yL2NvdW50eWJ1aWxkZXJzaW5jLmNvbS83MTcxODg5NzIwNDg0NjFfZHNjXzAzNjkuanBn/exact/600/400\n",
      "https://dlqxt4mfnxo6k.cloudfront.net/countybuildersinc.com/aHR0cHM6Ly9zMy5hbWF6b25hd3MuY29tL2Jhc2UtYWRtaW4yL2NvdW50eWJ1aWxkZXJzaW5jLmNvbS8yMDI4MDc4ODY1MjU5ODhfZHNjXzAzMTguanBn/exact/600/400\n",
      "https://dlqxt4mfnxo6k.cloudfront.net/countybuildersinc.com/aHR0cHM6Ly9zMy5hbWF6b25hd3MuY29tL2Jhc2UtYWRtaW4yL2NvdW50eWJ1aWxkZXJzaW5jLmNvbS85MTA3OTU0NDY5NTA5NDJfZHNjXzAzMjIuanBn/exact/600/400\n",
      "https://c.basemaps.cartocdn.com/light_all/13/2390/3096.png\n",
      "/images/map-markers/map-pin.svg\n",
      "/images/email2.svg\n",
      "https://dlqxt4mfnxo6k.cloudfront.net/countybuildersinc.com/aHR0cHM6Ly9zMy5hbWF6b25hd3MuY29tL2Jhc2UtYWRtaW4yL2NvdW50eWJ1aWxkZXJzaW5jLmNvbS81MDM1NDc5NTUzMDQzOF9kc2NfMDMwMy5qcGc=/exact/600/400\n",
      "https://b.basemaps.cartocdn.com/light_all/13/2391/3097.png\n",
      "https://a.basemaps.cartocdn.com/light_all/13/2387/3097.png\n",
      "https://dlqxt4mfnxo6k.cloudfront.net/countybuildersinc.com/aHR0cHM6Ly9zMy5hbWF6b25hd3MuY29tL2Jhc2UtYWRtaW4yL2NvdW50eWJ1aWxkZXJzaW5jLmNvbS83ODAyOTg3ODk5NjMxMjZfZHNjXzAyNzVfLV9jb3B5XzIuanBn/exact/600/400\n",
      "https://dlqxt4mfnxo6k.cloudfront.net/countybuildersinc.com/aHR0cHM6Ly9zMy5hbWF6b25hd3MuY29tL2Jhc2UtYWRtaW4yL2NvdW50eWJ1aWxkZXJzaW5jLmNvbS8xOTM2NjEwNzY0ODIzODVfZHNjXzAzMDAuanBn/exact/600/400\n",
      "https://dlqxt4mfnxo6k.cloudfront.net/countybuildersinc.com/aHR0cHM6Ly9zMy5hbWF6b25hd3MuY29tL2Jhc2UtYWRtaW4yL2NvdW50eWJ1aWxkZXJzaW5jLmNvbS84MDI0NzU3Njc2NzU3ODdfZHNjXzAzMjguanBn/exact/600/400\n",
      "https://b.basemaps.cartocdn.com/light_all/13/2388/3097.png\n",
      "https://dlqxt4mfnxo6k.cloudfront.net/countybuildersinc.com/aHR0cHM6Ly9zMy5hbWF6b25hd3MuY29tL2J1aWxkZXJjbG91ZC8xNzExNjUzYjAyZDM3NDRhODc3ZjBjZGMxZjFjZWViZS5qcGVn/exact/600/400\n",
      "https://a.basemaps.cartocdn.com/light_all/13/2391/3096.png\n",
      "https://c.basemaps.cartocdn.com/light_all/13/2389/3097.png\n",
      "https://dlqxt4mfnxo6k.cloudfront.net/countybuildersinc.com/aHR0cHM6Ly9zMy5hbWF6b25hd3MuY29tL2Jhc2UtYWRtaW4yL2NvdW50eWJ1aWxkZXJzaW5jLmNvbS84MTAyNzEyOTA1OTY1NzRfZHNjXzAzNzUuanBn/exact/600/400\n",
      "https://dlqxt4mfnxo6k.cloudfront.net/countybuildersinc.com/aHR0cHM6Ly9zMy5hbWF6b25hd3MuY29tL2Jhc2UtYWRtaW4yL2NvdW50eWJ1aWxkZXJzaW5jLmNvbS8zNDAzMjU4NTcwNDY5OTFfZHNjXzAzNjYuanBn/exact/600/400\n",
      "https://dlqxt4mfnxo6k.cloudfront.net/countybuildersinc.com/aHR0cHM6Ly9zMy5hbWF6b25hd3MuY29tL2Jhc2UtYWRtaW4yL2NvdW50eWJ1aWxkZXJzaW5jLmNvbS82NzM3NDIyODgyNTc5MjZfZHNjXzAzNTEuanBn/exact/600/400\n",
      "https://dlqxt4mfnxo6k.cloudfront.net/countybuildersinc.com/aHR0cHM6Ly9zMy5hbWF6b25hd3MuY29tL2Jhc2UtYWRtaW4yL2NvdW50eWJ1aWxkZXJzaW5jLmNvbS84MzQ2MzY5OTY5NjU4NTVfZHNjXzAzNTguanBn/exact/600/400\n",
      "https://dlqxt4mfnxo6k.cloudfront.net/countybuildersinc.com/aHR0cHM6Ly9zMy5hbWF6b25hd3MuY29tL2Jhc2UtYWRtaW4yL2NvdW50eWJ1aWxkZXJzaW5jLmNvbS85NDIzNTYzMjk4NzY5MjlfZHNjXzAzNzMuanBn/exact/600/400\n",
      "/images/expand.svg\n",
      "https://dlqxt4mfnxo6k.cloudfront.net/countybuildersinc.com/aHR0cHM6Ly9zMy5hbWF6b25hd3MuY29tL2Jhc2UtYWRtaW4yL2NvdW50eWJ1aWxkZXJzaW5jLmNvbS8zNTMzNDI0NTUzNDYxMzdfZHNjXzAzNzEuanBn/exact/600/400\n",
      "https://a.basemaps.cartocdn.com/light_all/13/2390/3097.png\n",
      "https://dlqxt4mfnxo6k.cloudfront.net/countybuildersinc.com/aHR0cHM6Ly9zMy5hbWF6b25hd3MuY29tL2Jhc2UtYWRtaW4yL2NvdW50eWJ1aWxkZXJzaW5jLmNvbS8yNzY1OTkxNTM0MTA2NDNfbW9ucm9lX3BsYW4uanBn/700/1500\n",
      "https://c.basemaps.cartocdn.com/light_all/13/2386/3097.png\n",
      "https://dlqxt4mfnxo6k.cloudfront.net/countybuildersinc.com/aHR0cHM6Ly9zMy5hbWF6b25hd3MuY29tL2Jhc2UtYWRtaW4yL2NvdW50eWJ1aWxkZXJzaW5jLmNvbS84MTIwMDc0ODgyMTcyMDRfZHNjXzAzNDkuanBn/exact/600/400\n",
      "https://c.basemaps.cartocdn.com/light_all/13/2387/3096.png\n",
      "https://dlqxt4mfnxo6k.cloudfront.net/countybuildersinc.com/aHR0cHM6Ly9zMy5hbWF6b25hd3MuY29tL2Jhc2UtYWRtaW4yL2NvdW50eWJ1aWxkZXJzaW5jLmNvbS81NzQzNDU2ODE4MTYzM19kc2NfMDMxMC5qcGc=/exact/600/400\n",
      "https://dlqxt4mfnxo6k.cloudfront.net/countybuildersinc.com/aHR0cHM6Ly9zMy5hbWF6b25hd3MuY29tL2Jhc2UtYWRtaW4yL2NvdW50eWJ1aWxkZXJzaW5jLmNvbS83MDkwNzM4MzAzOTU5MzdfZHNjXzAzNDQuanBn/exact/600/400\n",
      "https://b.basemaps.cartocdn.com/light_all/13/2386/3096.png\n",
      "https://dlqxt4mfnxo6k.cloudfront.net/countybuildersinc.com/aHR0cHM6Ly9zMy5hbWF6b25hd3MuY29tL2Jhc2UtYWRtaW4yL2NvdW50eWJ1aWxkZXJzaW5jLmNvbS8zNzEyNDg2NDMzNzk2NThfZHNjXzAzNDAuanBn/exact/600/400\n",
      "https://b.basemaps.cartocdn.com/light_all/13/2389/3096.png\n",
      "images/share.svg\n",
      "https://dlqxt4mfnxo6k.cloudfront.net/countybuildersinc.com/aHR0cHM6Ly9zMy5hbWF6b25hd3MuY29tL2Jhc2UtYWRtaW4yL2NvdW50eWJ1aWxkZXJzaW5jLmNvbS83MTYzMzQ5OTYyNzkzMjlfZHNjXzAzMzAuanBn/exact/600/400\n",
      "https://a.basemaps.cartocdn.com/light_all/13/2388/3096.png\n"
     ]
    }
   ],
   "source": [
    "for source in src_list:\n",
    "    print(source)"
   ]
  },
  {
   "cell_type": "code",
   "execution_count": null,
   "metadata": {},
   "outputs": [],
   "source": []
  },
  {
   "cell_type": "code",
   "execution_count": null,
   "metadata": {},
   "outputs": [],
   "source": []
  },
  {
   "cell_type": "code",
   "execution_count": null,
   "metadata": {},
   "outputs": [],
   "source": []
  },
  {
   "cell_type": "code",
   "execution_count": null,
   "metadata": {},
   "outputs": [],
   "source": []
  },
  {
   "cell_type": "code",
   "execution_count": null,
   "metadata": {},
   "outputs": [],
   "source": []
  },
  {
   "cell_type": "code",
   "execution_count": null,
   "metadata": {},
   "outputs": [],
   "source": []
  },
  {
   "cell_type": "code",
   "execution_count": null,
   "metadata": {},
   "outputs": [],
   "source": []
  },
  {
   "cell_type": "code",
   "execution_count": null,
   "metadata": {},
   "outputs": [],
   "source": []
  },
  {
   "cell_type": "code",
   "execution_count": null,
   "metadata": {},
   "outputs": [],
   "source": []
  },
  {
   "cell_type": "code",
   "execution_count": null,
   "metadata": {},
   "outputs": [],
   "source": []
  },
  {
   "cell_type": "code",
   "execution_count": null,
   "metadata": {},
   "outputs": [],
   "source": []
  },
  {
   "cell_type": "code",
   "execution_count": null,
   "metadata": {},
   "outputs": [],
   "source": []
  }
 ],
 "metadata": {
  "interpreter": {
   "hash": "4572f8113801e98d4b730113c3b6d0ebe205d8647398df7edf0855dd0c54f151"
  },
  "kernelspec": {
   "display_name": "Python 3.9.7 ('base')",
   "language": "python",
   "name": "python3"
  },
  "language_info": {
   "codemirror_mode": {
    "name": "ipython",
    "version": 3
   },
   "file_extension": ".py",
   "mimetype": "text/x-python",
   "name": "python",
   "nbconvert_exporter": "python",
   "pygments_lexer": "ipython3",
   "version": "3.9.7"
  },
  "orig_nbformat": 4
 },
 "nbformat": 4,
 "nbformat_minor": 2
}
