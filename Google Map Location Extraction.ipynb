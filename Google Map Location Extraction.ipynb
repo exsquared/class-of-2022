{
 "cells": [
  {
   "cell_type": "code",
   "execution_count": 1,
   "id": "5de52ac7",
   "metadata": {},
   "outputs": [],
   "source": [
    "from selenium import webdriver\n",
    "from selenium.webdriver.chrome.options import Options\n",
    "import re\n",
    "\n",
    "options = Options()\n",
    "options.headless = True\n",
    "\n",
    "browser = webdriver.Chrome(options=options)"
   ]
  },
  {
   "cell_type": "code",
   "execution_count": 2,
   "id": "57e7a334",
   "metadata": {},
   "outputs": [],
   "source": [
    "def find_map_links(url):\n",
    "    browser.get(url)\n",
    "    elem = browser.find_element_by_xpath(\"//*\")\n",
    "    source = elem.get_attribute('outerHTML')\n",
    "    \n",
    "    source = process_data(source)\n",
    "    \n",
    "    all_links = find_all_links(source)\n",
    "    \n",
    "    predefined_links = ['google.com/maps', 'maps.google.com', 'map.google.com']\n",
    "    \n",
    "    map_links = []\n",
    "    \n",
    "    for link in all_links:\n",
    "        if any(defined_links in link for defined_links in predefined_links) and 'https://www.google.com/maps/vt' not in link:\n",
    "            map_links.append(link)\n",
    "    \n",
    "    return check_links((sorted(map_links)))\n",
    "    #return map_links\n",
    "    #return all_links"
   ]
  },
  {
   "cell_type": "code",
   "execution_count": 3,
   "id": "f44fbd51",
   "metadata": {},
   "outputs": [],
   "source": [
    "def process_data(text):\n",
    "    text = text.replace('&amp;', '&')\n",
    "    text = text.replace('\\n', ' ')\n",
    "    text = text.replace('\\t', ' ')\n",
    "    text = text.replace('&quot;', '\"')\n",
    "    text = text.replace('\",', ' ')\n",
    "    text = text.replace('\")', \" \")\n",
    "    text = text.replace('\">', \" \")\n",
    "    text = text.replace('\" ', \" \")\n",
    "    text = text.replace('\"]', \" \")\n",
    "    text = text.replace('\"}', \" \")\n",
    "    text = text.replace('\\\\', '')\n",
    "    text = text.replace(\"')\", ' ')\n",
    "    \n",
    "    return text"
   ]
  },
  {
   "cell_type": "code",
   "execution_count": 4,
   "id": "ca5eb974",
   "metadata": {},
   "outputs": [],
   "source": [
    "def find_all_links(file):\n",
    "    links = list(set(re.findall(\"(https?:\\/\\/(?:www\\.|(?!www))[a-zA-Z0-9][a-zA-Z0-9-]+[a-zA-Z0-9]\\.[^\\s]{2,}|www\\.[a-zA-Z0-9][a-zA-Z0-9-]+[a-zA-Z0-9]\\.[^\\s]{2,}|https?:\\/\\/(?:www\\.|(?!www))[a-zA-Z0-9]+\\.[^\\s]{2,}|www\\.[a-zA-Z0-9]+\\.[^\\s]{2,})\", file)))\n",
    "    return links"
   ]
  },
  {
   "cell_type": "code",
   "execution_count": 5,
   "id": "638ff9fd",
   "metadata": {},
   "outputs": [],
   "source": [
    "def check_links(urls):\n",
    "    for url in urls:\n",
    "        if (('embed' in url) and (('q=' in url) or ('pb=!' in url))):\n",
    "            if 'q=' in url:\n",
    "                return return_embed_address(url)\n",
    "            elif 'pb=!' in url:\n",
    "                return return_long_lat_embed(url)\n",
    "        \n",
    "        elif 'https://maps.google.com/maps?ll=3D' in url:\n",
    "            try:\n",
    "                if len(url.split(\"https://maps.google.com/maps?ll=3D\")[1].split(',')) == 2:\n",
    "                    return return_long_lat(url)\n",
    "                continue\n",
    "            except:\n",
    "                continue\n",
    "        \n",
    "        elif '@' in url:\n",
    "            try:\n",
    "                url = url.split('@')[1]\n",
    "                temp = url.split(',')\n",
    "                latitude = temp[0]\n",
    "                longitude = temp[1]\n",
    "\n",
    "                return latitude, longitude\n",
    "            except:\n",
    "                continue\n",
    "                \n",
    "        elif 'current+location/' in url:\n",
    "            try:\n",
    "                url = url.split('current+location/')[1]\n",
    "                temp = url.split(',')\n",
    "                latitude = find_integer(temp[0])\n",
    "                longitude = find_integer(temp[1])\n",
    "\n",
    "                return latitude, longitude\n",
    "            except:\n",
    "                continue\n",
    "                \n",
    "        elif 'q=' in url:\n",
    "            try:\n",
    "                return return_embed_address(url)\n",
    "            except:\n",
    "                continue\n",
    "        \n",
    "        continue\n",
    "            \n",
    "    '''for url in urls:\n",
    "        if 'https://maps.google.com/maps?ll=3D' in url:\n",
    "            try:\n",
    "                if len(url.split(\"https://maps.google.com/maps?ll=3D\")[1].split(',')) == 2:\n",
    "                    return return_long_lat(url)\n",
    "                continue\n",
    "            except:\n",
    "                continue\n",
    "                \n",
    "    for url in urls:\n",
    "        if 'google.com/maps/@' in url:\n",
    "            url = url.split('@')[1]\n",
    "            temp = url.split(',')\n",
    "            latitude = temp[0]\n",
    "            longitude = temp[1]\n",
    "            \n",
    "            return latitude, longitude'''\n",
    "            \n",
    "                \n",
    "    return 0"
   ]
  },
  {
   "cell_type": "code",
   "execution_count": 6,
   "id": "c641cb4b",
   "metadata": {},
   "outputs": [],
   "source": [
    "def return_long_lat_embed(url):\n",
    "    temp = url.split('!2d')[1].split('!3d')\n",
    "    longitude = temp[0]\n",
    "    latitude = temp[1].split('!')[0]\n",
    "    \n",
    "    return latitude, longitude"
   ]
  },
  {
   "cell_type": "code",
   "execution_count": 7,
   "id": "fdc85a86",
   "metadata": {},
   "outputs": [],
   "source": [
    "def return_long_lat(url):\n",
    "    temp = url.split('?ll')[1].split(',')\n",
    "    latitude = temp[0][3:]\n",
    "    longitude = temp[1].split('&')[0]\n",
    "    \n",
    "    return latitude, longitude"
   ]
  },
  {
   "cell_type": "code",
   "execution_count": 8,
   "id": "035030a4",
   "metadata": {},
   "outputs": [],
   "source": [
    "def return_embed_address(url):\n",
    "    return url.split('q=')[1].split('&')[0].replace('%20',' ').replace('+', ' ').replace('%2C', ',')"
   ]
  },
  {
   "cell_type": "code",
   "execution_count": 9,
   "id": "00d6f7ad",
   "metadata": {},
   "outputs": [],
   "source": [
    "def find_integer(text):\n",
    "    return(list(re.findall(\"((\\+|-)?([0-9]+)(\\.[0-9]+)?)|((\\+|-)?\\.?[0-9]+)\", text)[0]))[0]"
   ]
  },
  {
   "cell_type": "code",
   "execution_count": 10,
   "id": "a85c961f",
   "metadata": {},
   "outputs": [
    {
     "data": {
      "text/plain": [
       "('39.58896736670392', '-84.17152495088204')"
      ]
     },
     "execution_count": 10,
     "metadata": {},
     "output_type": "execute_result"
    }
   ],
   "source": [
    "find_map_links('https://www.peebleshomes.com/neighborhood/downing-farm/')"
   ]
  },
  {
   "cell_type": "code",
   "execution_count": 11,
   "id": "02db5bda",
   "metadata": {},
   "outputs": [
    {
     "data": {
      "text/plain": [
       "'107 Weber Blvd N, Naples, FL 34120'"
      ]
     },
     "execution_count": 11,
     "metadata": {},
     "output_type": "execute_result"
    }
   ],
   "source": [
    "find_map_links('https://metrohomebuilders.com/contact-us/')"
   ]
  },
  {
   "cell_type": "code",
   "execution_count": 12,
   "id": "550371b9",
   "metadata": {},
   "outputs": [
    {
     "data": {
      "text/plain": [
       "('37.3031304', '-93.4374225')"
      ]
     },
     "execution_count": 12,
     "metadata": {},
     "output_type": "execute_result"
    }
   ],
   "source": [
    "find_map_links('https://1stchoice-realty.com/contact/')"
   ]
  },
  {
   "cell_type": "code",
   "execution_count": 13,
   "id": "0b75100f",
   "metadata": {},
   "outputs": [
    {
     "data": {
      "text/plain": [
       "('35.9407095', '-90.5795876')"
      ]
     },
     "execution_count": 13,
     "metadata": {},
     "output_type": "execute_result"
    }
   ],
   "source": [
    "find_map_links('https://www.affordablehomessupercenter.com/contact-us/')"
   ]
  },
  {
   "cell_type": "code",
   "execution_count": 14,
   "id": "5ed78377",
   "metadata": {},
   "outputs": [
    {
     "data": {
      "text/plain": [
       "'17480 Dallas Parkway Suite 217 Dallas, TX 75287'"
      ]
     },
     "execution_count": 14,
     "metadata": {},
     "output_type": "execute_result"
    }
   ],
   "source": [
    "find_map_links('https://alfordhomes.com/contact.html')"
   ]
  },
  {
   "cell_type": "code",
   "execution_count": 15,
   "id": "b6058dac",
   "metadata": {},
   "outputs": [
    {
     "data": {
      "text/plain": [
       "('40.18830547939236', '-74.12101638461101')"
      ]
     },
     "execution_count": 15,
     "metadata": {},
     "output_type": "execute_result"
    }
   ],
   "source": [
    "find_map_links('https://njhomebuilder.com/contact-us/')"
   ]
  },
  {
   "cell_type": "code",
   "execution_count": 16,
   "id": "6620623c",
   "metadata": {},
   "outputs": [
    {
     "data": {
      "text/plain": [
       "('41.44726600014111', '-86.14366520274953')"
      ]
     },
     "execution_count": 16,
     "metadata": {},
     "output_type": "execute_result"
    }
   ],
   "source": [
    "find_map_links('https://newenergybuilding.com/contact-us/')"
   ]
  },
  {
   "cell_type": "code",
   "execution_count": 17,
   "id": "277b428a",
   "metadata": {},
   "outputs": [
    {
     "data": {
      "text/plain": [
       "'1411 US-90, Sealy, TX 77474, USA'"
      ]
     },
     "execution_count": 17,
     "metadata": {},
     "output_type": "execute_result"
    }
   ],
   "source": [
    "find_map_links('http://ranchcountry.com/')"
   ]
  },
  {
   "cell_type": "code",
   "execution_count": null,
   "id": "1641849b",
   "metadata": {},
   "outputs": [],
   "source": []
  }
 ],
 "metadata": {
  "kernelspec": {
   "display_name": "Python 3 (ipykernel)",
   "language": "python",
   "name": "python3"
  },
  "language_info": {
   "codemirror_mode": {
    "name": "ipython",
    "version": 3
   },
   "file_extension": ".py",
   "mimetype": "text/x-python",
   "name": "python",
   "nbconvert_exporter": "python",
   "pygments_lexer": "ipython3",
   "version": "3.9.7"
  }
 },
 "nbformat": 4,
 "nbformat_minor": 5
}
