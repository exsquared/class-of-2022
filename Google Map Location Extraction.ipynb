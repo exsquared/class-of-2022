{
 "cells": [
  {
   "cell_type": "code",
   "execution_count": 1,
   "id": "0ce0ecc8",
   "metadata": {},
   "outputs": [],
   "source": [
    "from bs4 import BeautifulSoup\n",
    "import re"
   ]
  },
  {
   "cell_type": "code",
   "execution_count": 2,
   "id": "2cf1a402",
   "metadata": {},
   "outputs": [],
   "source": [
    "def find_map_links(filename):\n",
    "    with open(filename) as file:\n",
    "        soup = BeautifulSoup(file, 'html.parser')\n",
    "    \n",
    "    all_links = find_all_links(str(soup).replace(',=\\n%20', ','))\n",
    "    \n",
    "    predefined_links = ['google.com/maps', 'maps.google.com', 'map.google.com']\n",
    "    \n",
    "    map_links = []\n",
    "    \n",
    "    for link in all_links:\n",
    "        if any(defined_links in link for defined_links in predefined_links) and 'https://www.google.com/maps/vt' not in link:\n",
    "            if(link[-2:] == ',=' or link[-2:] == \"='\"):\n",
    "                map_links.append(link.replace('&amp;', '&')[:-2])\n",
    "            else:\n",
    "                map_links.append(link.replace('&amp;', '&'))\n",
    "    \n",
    "    return check_links((sorted(map_links)))\n",
    "    #return map_links\n",
    "    #return all_links"
   ]
  },
  {
   "cell_type": "code",
   "execution_count": 3,
   "id": "c6aae9b7",
   "metadata": {},
   "outputs": [],
   "source": [
    "def check_links(urls):\n",
    "    for url in urls:\n",
    "        if (('embed' in url) and (('q=' in url) or ('pb=!' in url))):\n",
    "            if 'q=' in url:\n",
    "                return return_embed_address(url)\n",
    "            elif 'pb=!' in url:\n",
    "                return return_long_lat_embed(url)\n",
    "        \n",
    "        elif 'https://maps.google.com/maps?ll=3D' in url:\n",
    "            try:\n",
    "                if len(url.split(\"https://maps.google.com/maps?ll=3D\")[1].split(',')) == 2:\n",
    "                    return return_long_lat(url)\n",
    "                continue\n",
    "            except:\n",
    "                continue\n",
    "        \n",
    "        elif 'google.com/maps/@' in url:\n",
    "            try:\n",
    "                url = url.split('@')[1]\n",
    "                temp = url.split(',')\n",
    "                latitude = temp[0]\n",
    "                longitude = temp[1]\n",
    "\n",
    "                return latitude, longitude\n",
    "            except:\n",
    "                continue\n",
    "                \n",
    "        elif 'current+location/' in url:\n",
    "            try:\n",
    "                url = url.split('current+location/')[1]\n",
    "                temp = url.split(',')\n",
    "                latitude = find_integer(temp[0])\n",
    "                longitude = find_integer(temp[1])\n",
    "\n",
    "                return latitude, longitude\n",
    "            except:\n",
    "                continue\n",
    "        \n",
    "        continue\n",
    "            \n",
    "    '''for url in urls:\n",
    "        if 'https://maps.google.com/maps?ll=3D' in url:\n",
    "            try:\n",
    "                if len(url.split(\"https://maps.google.com/maps?ll=3D\")[1].split(',')) == 2:\n",
    "                    return return_long_lat(url)\n",
    "                continue\n",
    "            except:\n",
    "                continue\n",
    "                \n",
    "    for url in urls:\n",
    "        if 'google.com/maps/@' in url:\n",
    "            url = url.split('@')[1]\n",
    "            temp = url.split(',')\n",
    "            latitude = temp[0]\n",
    "            longitude = temp[1]\n",
    "            \n",
    "            return latitude, longitude'''\n",
    "            \n",
    "                \n",
    "    return 0"
   ]
  },
  {
   "cell_type": "code",
   "execution_count": 4,
   "id": "d8f0145b",
   "metadata": {},
   "outputs": [],
   "source": [
    "def return_long_lat_embed(url):\n",
    "    temp = url.split('!2d')[1].split('!3d')\n",
    "    longitude = temp[0]\n",
    "    latitude = temp[1].split('!')[0]\n",
    "    \n",
    "    return latitude, longitude"
   ]
  },
  {
   "cell_type": "code",
   "execution_count": 5,
   "id": "54e3dc54",
   "metadata": {},
   "outputs": [],
   "source": [
    "def return_long_lat(url):\n",
    "    temp = url.split('?ll')[1].split(',')\n",
    "    latitude = temp[0][3:]\n",
    "    longitude = temp[1].split('&')[0]\n",
    "    \n",
    "    return latitude, longitude"
   ]
  },
  {
   "cell_type": "code",
   "execution_count": 6,
   "id": "914a9a67",
   "metadata": {},
   "outputs": [],
   "source": [
    "def return_embed_address(url):\n",
    "    return url.split('q=')[1].split('&')[0].replace('%20',' ').replace('+', ' ').replace('%2C', ',')"
   ]
  },
  {
   "cell_type": "code",
   "execution_count": 7,
   "id": "ce743455",
   "metadata": {},
   "outputs": [],
   "source": [
    "def find_all_links(file):\n",
    "    links = list(set(re.findall(\"(https?:\\/\\/(?:www\\.|(?!www))[a-zA-Z0-9][a-zA-Z0-9-]+[a-zA-Z0-9]\\.[^\\s]{2,}|www\\.[a-zA-Z0-9][a-zA-Z0-9-]+[a-zA-Z0-9]\\.[^\\s]{2,}|https?:\\/\\/(?:www\\.|(?!www))[a-zA-Z0-9]+\\.[^\\s]{2,}|www\\.[a-zA-Z0-9]+\\.[^\\s]{2,})\", file)))\n",
    "    return links"
   ]
  },
  {
   "cell_type": "code",
   "execution_count": 8,
   "id": "130a45f7",
   "metadata": {},
   "outputs": [],
   "source": [
    "def find_integer(text):\n",
    "    return(list(re.findall(\"((\\+|-)?([0-9]+)(\\.[0-9]+)?)|((\\+|-)?\\.?[0-9]+)\", text)[0]))[0]"
   ]
  },
  {
   "cell_type": "code",
   "execution_count": 9,
   "id": "8481c327",
   "metadata": {},
   "outputs": [
    {
     "data": {
      "text/plain": [
       "('37.302737800000', '-93.437422500000')"
      ]
     },
     "execution_count": 9,
     "metadata": {},
     "output_type": "execute_result"
    }
   ],
   "source": [
    "test = find_map_links('html-files//Contact 1ST Choice Realty, Willard Missouri.mhtml')\n",
    "test"
   ]
  },
  {
   "cell_type": "code",
   "execution_count": 10,
   "id": "5c51859a",
   "metadata": {},
   "outputs": [
    {
     "data": {
      "text/plain": [
       "'17480 Dallas Parkway Suite 217 Dallas, TX 75287'"
      ]
     },
     "execution_count": 10,
     "metadata": {},
     "output_type": "execute_result"
    }
   ],
   "source": [
    "test = find_map_links('html-files//Contact Greg Alford of Alford Homes Dallas.mhtml')\n",
    "test"
   ]
  },
  {
   "cell_type": "code",
   "execution_count": 11,
   "id": "ef38c94e",
   "metadata": {},
   "outputs": [
    {
     "data": {
      "text/plain": [
       "('41.447262', '-86.073622')"
      ]
     },
     "execution_count": 11,
     "metadata": {},
     "output_type": "execute_result"
    }
   ],
   "source": [
    "test = find_map_links('html-files//Contact Us - Equipped to help with your new home - New Energy Homes.mhtml')\n",
    "test"
   ]
  },
  {
   "cell_type": "code",
   "execution_count": 12,
   "id": "5be98382",
   "metadata": {},
   "outputs": [
    {
     "data": {
      "text/plain": [
       "'107 Weber Blvd N, Naples, FL 34120'"
      ]
     },
     "execution_count": 12,
     "metadata": {},
     "output_type": "execute_result"
    }
   ],
   "source": [
    "test = find_map_links('html-files//Contact Us - Metro Home Builders, Inc.mhtml')\n",
    "test"
   ]
  },
  {
   "cell_type": "code",
   "execution_count": 13,
   "id": "11a7b609",
   "metadata": {},
   "outputs": [
    {
     "data": {
      "text/plain": [
       "('40.18830547939236', '-74.12101638461101')"
      ]
     },
     "execution_count": 13,
     "metadata": {},
     "output_type": "execute_result"
    }
   ],
   "source": [
    "test = find_map_links('html-files//Contact Us _ NJ Home Builder.mhtml')\n",
    "test"
   ]
  },
  {
   "cell_type": "code",
   "execution_count": 14,
   "id": "67db8e24",
   "metadata": {},
   "outputs": [
    {
     "data": {
      "text/plain": [
       "('39.590083', '-84.170306')"
      ]
     },
     "execution_count": 14,
     "metadata": {},
     "output_type": "execute_result"
    }
   ],
   "source": [
    "test = find_map_links('html-files//Downing Farm - Peebles Homes _ New Homes in Dayton.mhtml')\n",
    "test"
   ]
  },
  {
   "cell_type": "code",
   "execution_count": 15,
   "id": "e5138b18",
   "metadata": {},
   "outputs": [
    {
     "data": {
      "text/plain": [
       "('29.769833', '-96.16740')"
      ]
     },
     "execution_count": 15,
     "metadata": {},
     "output_type": "execute_result"
    }
   ],
   "source": [
    "test = find_map_links('html-files//Ranch Country Homes - Welcome!.mhtml')\n",
    "test"
   ]
  },
  {
   "cell_type": "code",
   "execution_count": 16,
   "id": "e96ad2a2",
   "metadata": {},
   "outputs": [
    {
     "data": {
      "text/plain": [
       "('32.80705', '-96.71551')"
      ]
     },
     "execution_count": 16,
     "metadata": {},
     "output_type": "execute_result"
    }
   ],
   "source": [
    "test = find_map_links('html-files//New Homes in Dallas, TX _ 572 Communities.mhtml')\n",
    "test"
   ]
  },
  {
   "cell_type": "code",
   "execution_count": 17,
   "id": "4ee1b98d",
   "metadata": {},
   "outputs": [
    {
     "data": {
      "text/plain": [
       "('35.94071', '-90.579588')"
      ]
     },
     "execution_count": 17,
     "metadata": {},
     "output_type": "execute_result"
    }
   ],
   "source": [
    "test = find_map_links('html-files//Contact Us - Affordable Homes Super Center.mhtml')\n",
    "test"
   ]
  }
 ],
 "metadata": {
  "kernelspec": {
   "display_name": "Python 3 (ipykernel)",
   "language": "python",
   "name": "python3"
  },
  "language_info": {
   "codemirror_mode": {
    "name": "ipython",
    "version": 3
   },
   "file_extension": ".py",
   "mimetype": "text/x-python",
   "name": "python",
   "nbconvert_exporter": "python",
   "pygments_lexer": "ipython3",
   "version": "3.9.7"
  }
 },
 "nbformat": 4,
 "nbformat_minor": 5
}
